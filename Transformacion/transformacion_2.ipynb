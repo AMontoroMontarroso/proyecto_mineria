{
 "cells": [
  {
   "cell_type": "code",
   "execution_count": 11,
   "metadata": {
    "collapsed": true
   },
   "outputs": [],
   "source": [
    "import csv\n",
    "import numpy as np\n",
    "import pandas as pd"
   ]
  },
  {
   "cell_type": "code",
   "execution_count": 12,
   "metadata": {
    "collapsed": false
   },
   "outputs": [
    {
     "data": {
      "text/plain": [
       "['',\n",
       " 'Unnamed: 0',\n",
       " 'DRUNK_DR',\n",
       " 'FATALS',\n",
       " 'LATITUDE',\n",
       " 'LONGITUD',\n",
       " 'STATE',\n",
       " 'DATE']"
      ]
     },
     "execution_count": 12,
     "metadata": {},
     "output_type": "execute_result"
    }
   ],
   "source": [
    "f_accidents = open('../Data/Preproceso/accidents.csv')\n",
    "accidents_csv = csv.reader(f_accidents)\n",
    "headers_accidents = accidents_csv.next()\n",
    "accidents = []\n",
    "for row in accidents_csv:\n",
    "    accidents.append(row[2:])\n",
    "\n",
    "headers_accidents"
   ]
  },
  {
   "cell_type": "code",
   "execution_count": 13,
   "metadata": {
    "collapsed": false
   },
   "outputs": [
    {
     "data": {
      "text/plain": [
       "['EPISODE_ID',\n",
       " 'BEGIN_DATE',\n",
       " 'DURACION',\n",
       " 'END_DATE',\n",
       " 'GRANIZO',\n",
       " 'LAT',\n",
       " 'LLUVIA',\n",
       " 'LON',\n",
       " 'NIEVE',\n",
       " 'RANGE',\n",
       " 'T. ELECTRICA',\n",
       " 'TORNADO',\n",
       " 'VIENTO']"
      ]
     },
     "execution_count": 13,
     "metadata": {},
     "output_type": "execute_result"
    }
   ],
   "source": [
    "f_storms = open('../Data/Transformacion/transformacion.csv')\n",
    "storms_csv = csv.reader(f_storms)\n",
    "headers_storms = storms_csv.next()\n",
    "storms = []\n",
    "for row in storms_csv:\n",
    "    storms.append(row)\n",
    "headers_storms"
   ]
  },
  {
   "cell_type": "code",
   "execution_count": 14,
   "metadata": {
    "collapsed": true
   },
   "outputs": [],
   "source": [
    "import math\n",
    "\n",
    "def merc_x(lon):\n",
    "  r_major=6378137.000\n",
    "  return r_major*math.radians(lon)\n",
    "\n",
    "def merc_y(lat):\n",
    "  if lat>89.5:lat=89.5\n",
    "  if lat<-89.5:lat=-89.5\n",
    "  r_major=6378137.000\n",
    "  r_minor=6356752.3142\n",
    "  temp=r_minor/r_major\n",
    "  eccent=math.sqrt(1-temp**2)\n",
    "  phi=math.radians(lat)\n",
    "  sinphi=math.sin(phi)\n",
    "  con=eccent*sinphi\n",
    "  com=eccent/2\n",
    "  con=((1.0-con)/(1.0+con))**com\n",
    "  ts=math.tan((math.pi/2-phi)/2)/con\n",
    "  y=0-r_major*math.log(ts)\n",
    "  return y\n",
    "\n",
    "#Distancia entre dos punto geograficos. Se obtiene sus proyecciones Mercator y la distancia euclidea entre ellas en km\n",
    "def dist(p1lon,p1lat,p2lon,p2lat):\n",
    "\tx1=merc_x(p1lon)\n",
    "\tx2=merc_x(p2lon)\n",
    "\ty1=merc_y(p1lat)\n",
    "\ty2=merc_y(p2lat)\n",
    "\treturn math.sqrt((x1-x2)**2+(y1-y2)**2) / 1000"
   ]
  },
  {
   "cell_type": "code",
   "execution_count": 15,
   "metadata": {
    "collapsed": false
   },
   "outputs": [],
   "source": [
    "f_accidents = open('../Data/Preproceso/accidents.csv')\n",
    "accidents_csv = csv.reader(f_accidents)\n",
    "headers_accidents = accidents_csv.next()\n",
    "accidents = []\n",
    "for row in accidents_csv:\n",
    "    accidents.append(row[2:])"
   ]
  },
  {
   "cell_type": "code",
   "execution_count": 16,
   "metadata": {
    "collapsed": false
   },
   "outputs": [],
   "source": [
    "f_storms = open('../Data/Transformacion/transformacion.csv')\n",
    "storms_csv = csv.reader(f_storms)\n",
    "headers_storms = storms_csv.next()\n",
    "storms = []\n",
    "for row in storms_csv:\n",
    "    storms.append(row)"
   ]
  },
  {
   "cell_type": "code",
   "execution_count": 17,
   "metadata": {
    "collapsed": false
   },
   "outputs": [],
   "source": [
    "accidentes_provocados = [0] * len(storms)\n",
    "#storm[7] -> lon, storm[5] -> lat, storm[9] -> radio, storm[1]-> begindate, storm[3] -> endate\n",
    "for i, storm in enumerate(storms):\n",
    "    for accident in accidents:\n",
    "        if dist(float(storm[7]), float(storm[5]), float(accident[3]), float(accident[2])) <= float(storm[9]) and np.datetime64(storm[1]) <= np.datetime64(accident[5]) <= np.datetime64(storm[3]) and float(accident[0]) <= 0:\n",
    "            accidentes_provocados[i] += 1"
   ]
  },
  {
   "cell_type": "code",
   "execution_count": 18,
   "metadata": {
    "collapsed": true
   },
   "outputs": [],
   "source": [
    "for i in range(len(storms)):\n",
    "    storms[i].append(accidentes_provocados[i])\n",
    "\n",
    "headers_storms.append('ACCIDENTES')\n",
    "df = pd.DataFrame(storms, columns=headers_storms)\n",
    "df.to_csv('../Data/Transformacion/transformacion2.csv', index='EPISODE_ID')"
   ]
  },
  {
   "cell_type": "code",
   "execution_count": 19,
   "metadata": {
    "collapsed": false
   },
   "outputs": [
    {
     "data": {
      "image/png": "[encoded data removed]",
      "text/plain": [
       "<matplotlib.figure.Figure at 0x7f42cb858d10>"
      ]
     },
     "metadata": {},
     "output_type": "display_data"
    }
   ],
   "source": [
    "import matplotlib.pyplot as plt\n",
    "\n",
    "df_accidents = df[df['ACCIDENTES'] > 0]\n",
    "\n",
    "plt.scatter(df_accidents['LON'].astype(float), df_accidents['LAT'].astype(float), s = df_accidents['ACCIDENTES'].astype(float)*4)\n",
    "plt.show()"
   ]
  }
 ],
 "metadata": {
  "anaconda-cloud": {},
  "kernelspec": {
   "display_name": "Python [conda root]",
   "language": "python",
   "name": "conda-root-py"
  },
  "language_info": {
   "codemirror_mode": {
    "name": "ipython",
    "version": 2
   },
   "file_extension": ".py",
   "mimetype": "text/x-python",
   "name": "python",
   "nbconvert_exporter": "python",
   "pygments_lexer": "ipython2",
   "version": "2.7.12"
  }
 },
 "nbformat": 4,
 "nbformat_minor": 0
}
