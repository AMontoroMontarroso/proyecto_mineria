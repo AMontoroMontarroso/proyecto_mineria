{
 "cells": [
  {
   "cell_type": "code",
   "execution_count": 3,
   "metadata": {
    "collapsed": true
   },
   "outputs": [],
   "source": [
    "import pandas as pd\n",
    "import csv\n",
    "import numpy as np"
   ]
  },
  {
   "cell_type": "code",
   "execution_count": 4,
   "metadata": {
    "collapsed": true
   },
   "outputs": [],
   "source": [
    "f = open('../Data/Preproceso/storms_final_preproceso.csv')\n",
    "csv_f = csv.reader(f)\n",
    "cabeceras = csv_f.next()\n",
    "\n",
    "tabla_pre = dict()\n",
    "\n",
    "for row in csv_f:\n",
    "    ep = dict(zip(cabeceras, row))\n",
    "    if row[11] in tabla_pre:\n",
    "        tabla_pre[row[11]].append(ep)\n",
    "    else:\n",
    "        tabla_pre[row[11]] = [ep]"
   ]
  },
  {
   "cell_type": "code",
   "execution_count": 8,
   "metadata": {
    "collapsed": false
   },
   "outputs": [
    {
     "name": "stderr",
     "output_type": "stream",
     "text": [
      "/home/pablo/anaconda2/lib/python2.7/site-packages/ipykernel/__main__.py:22: DeprecationWarning: elementwise == comparison failed; this will raise an error in the future.\n",
      "/home/pablo/anaconda2/lib/python2.7/site-packages/ipykernel/__main__.py:27: DeprecationWarning: elementwise == comparison failed; this will raise an error in the future.\n"
     ]
    }
   ],
   "source": [
    "tabla_trans = []\n",
    "\n",
    "for ep_id in tabla_pre:\n",
    "    ep_trans = {'EPISODE_ID':  0,\n",
    "                'BEGIN_DATE' : 0,\n",
    "                'END_DATE' :   0,\n",
    "                'LAT' :        0,\n",
    "                'LON' :        0,\n",
    "                'RANGE':       0,\n",
    "                'LLUVIA':      0,\n",
    "                'VIENTO':      0,\n",
    "                'TORNADO':     0,\n",
    "                'GRANIZO':     0,\n",
    "                'NIEVE':       0,\n",
    "                'T. ELECTRICA':0                 \n",
    "    }\n",
    "    \n",
    "    episodio = tabla_pre[ep_id]\n",
    "    latitudes, longitudes, radios = [], [], []\n",
    "    \n",
    "    for evento in episodio: \n",
    "        if ep_trans['BEGIN_DATE'] == 0:\n",
    "            ep_trans['BEGIN_DATE'] = np.datetime64(evento['BEGIN_DATE_TIME'])\n",
    "        elif ep_trans['BEGIN_DATE'] >= np.datetime64(evento['BEGIN_DATE_TIME']):\n",
    "            ep_trans['BEGIN_DATE'] = np.datetime64(evento['BEGIN_DATE_TIME'])\n",
    "            \n",
    "        if ep_trans['END_DATE'] == 0:\n",
    "            ep_trans['END_DATE'] = np.datetime64(evento['END_DATE_TIME'])\n",
    "        elif ep_trans['END_DATE'] <= np.datetime64(evento['END_DATE_TIME']):\n",
    "            ep_trans['END_DATE'] = np.datetime64(evento['END_DATE_TIME'])\n",
    "        \n",
    "        if evento['EVENT_TYPE'] == 'Heavy Rain' and ep_trans['LLUVIA'] == 0:\n",
    "            ep_trans['LLUVIA'] = 1\n",
    "        elif evento['EVENT_TYPE'] == 'Flood' and ep_trans['LLUVIA'] <= 1:\n",
    "            ep_trans['LLUVIA'] = 2\n",
    "        elif evento['EVENT_TYPE'] == 'Flash Flood' and ep_trans['LLUVIA'] <= 2:\n",
    "            ep_trans['LLUVIA'] = 3\n",
    "        elif evento['EVENT_TYPE'] == 'Strong Wind' and ep_trans['VIENTO'] <= evento['MAGNITUDE']:\n",
    "            ep_trans['VIENTO'] = 1\n",
    "        elif evento['EVENT_TYPE'] == 'High Wind' and ep_trans['VIENTO'] <= evento['MAGNITUDE']:\n",
    "            ep_trans['VIENTO'] = 2\n",
    "        elif evento['EVENT_TYPE'] == 'Thunderstorm Wind' and ep_trans['VIENTO'] <= evento['MAGNITUDE']:\n",
    "            ep_trans['VIENTO'] = 3\n",
    "        elif evento['EVENT_TYPE'] == 'Tornado':\n",
    "            ep_trans['TORNADO'] = int(evento['TOR_F_SCALE'][-1]) + 1 \n",
    "        elif evento['EVENT_TYPE'] == 'Hail' and ep_trans['GRANIZO'] < evento['MAGNITUDE']:\n",
    "            ep_trans['GRANIZO'] = evento['MAGNITUDE']\n",
    "        elif evento['EVENT_TYPE'] == 'Winter Storm':\n",
    "            ep_trans['NIEVE'] = 1\n",
    "        elif evento['EVENT_TYPE'] == 'Heavy Snow':\n",
    "            ep_trans['NIEVE'] = 1\n",
    "        elif evento['EVENT_TYPE'] == 'Lightning':\n",
    "            evento['T. ELECTRICA'] = 1\n",
    "            \n",
    "        ep_trans['EPISODE_ID'] = ep_id\n",
    "       \n",
    "        latitud = (float(evento['BEGIN_LAT']) + float(evento['END_LAT'])) / 2\n",
    "        longitud = (float(evento['BEGIN_LON']) + float(evento['END_LON'])) / 2\n",
    "        radio = float(evento['RANGE']) + dist(float(evento['BEGIN_LON']), float(evento['BEGIN_LAT']), longitud, latitud)\n",
    "        \n",
    "        latitudes.append(latitud)\n",
    "        longitudes.append(longitud)\n",
    "        radios.append(radio)\n",
    "    \n",
    "    \n",
    "    centro = (np.average(longitudes), np.average(latitudes))\n",
    "    \n",
    "    distan = 0\n",
    "    for lon, lat, r in zip(longitudes, latitudes, radios):\n",
    "        d = dist(centro[0], centro[1], lon, lat) +  r\n",
    "        if d > distan:\n",
    "            distan = d\n",
    "    \n",
    "    ep_trans['LON'] = centro[0]\n",
    "    ep_trans['LAT'] = centro[1]\n",
    "    ep_trans['RANGE'] = distan\n",
    "        \n",
    "    tabla_trans.append(ep_trans)    "
   ]
  },
  {
   "cell_type": "code",
   "execution_count": null,
   "metadata": {
    "collapsed": false
   },
   "outputs": [],
   "source": []
  },
  {
   "cell_type": "code",
   "execution_count": 7,
   "metadata": {
    "collapsed": true
   },
   "outputs": [],
   "source": [
    "import math\n",
    "\n",
    "def merc_x(lon):\n",
    "  r_major=6378137.000\n",
    "  return r_major*math.radians(lon)\n",
    "\n",
    "def merc_y(lat):\n",
    "  if lat>89.5:lat=89.5\n",
    "  if lat<-89.5:lat=-89.5\n",
    "  r_major=6378137.000\n",
    "  r_minor=6356752.3142\n",
    "  temp=r_minor/r_major\n",
    "  eccent=math.sqrt(1-temp**2)\n",
    "  phi=math.radians(lat)\n",
    "  sinphi=math.sin(phi)\n",
    "  con=eccent*sinphi\n",
    "  com=eccent/2\n",
    "  con=((1.0-con)/(1.0+con))**com\n",
    "  ts=math.tan((math.pi/2-phi)/2)/con\n",
    "  y=0-r_major*math.log(ts)\n",
    "  return y\n",
    "\n",
    "#Distancia entre dos punto geograficos. Se obtiene sus proyecciones Mercator y la distancia euclidea entre ellas en km\n",
    "def dist(p1lon,p1lat,p2lon,p2lat):\n",
    "\tx1=merc_x(p1lon)\n",
    "\tx2=merc_x(p2lon)\n",
    "\ty1=merc_y(p1lat)\n",
    "\ty2=merc_y(p2lat)\n",
    "\treturn math.sqrt((x1-x2)**2+(y1-y2)**2) / 1000"
   ]
  },
  {
   "cell_type": "code",
   "execution_count": 10,
   "metadata": {
    "collapsed": false
   },
   "outputs": [],
   "source": [
    "df = pd.DataFrame(tabla_trans)\n",
    "df = df.set_index('EPISODE_ID')\n",
    "df.to_csv('../Data/Transformacion/transformacion.csv')"
   ]
  },
  {
   "cell_type": "code",
   "execution_count": 12,
   "metadata": {
    "collapsed": false
   },
   "outputs": [],
   "source": [
    "import matplotlib.pyplot as plt\n",
    "\n",
    "plt.scatter(df['LON'], df['LAT'], s = df['RANGE'], alpha=0.7)\n",
    "plt.show()"
   ]
  },
  {
   "cell_type": "code",
   "execution_count": 15,
   "metadata": {
    "collapsed": false
   },
   "outputs": [
    {
     "data": {
      "text/plain": [
       "EPISODE_ID\n",
       "73398     -86.214230\n",
       "65098     -84.967010\n",
       "4025      -86.030096\n",
       "22667     -86.615000\n",
       "22660     -86.491014\n",
       "61456     -85.510000\n",
       "14290     -86.241626\n",
       "1211378   -87.695000\n",
       "73088     -87.646838\n",
       "1211371   -87.300000\n",
       "1211372   -87.240000\n",
       "32836     -86.316210\n",
       "1211375   -87.550000\n",
       "1211377   -87.885000\n",
       "75542     -85.664211\n",
       "65279     -87.319387\n",
       "61195     -85.870148\n",
       "61190     -86.220347\n",
       "104447    -87.606600\n",
       "25380     -85.887350\n",
       "3772      -87.328571\n",
       "3771      -85.900000\n",
       "3770      -85.900000\n",
       "1184414   -86.100000\n",
       "1184413   -85.985000\n",
       "32014     -86.650825\n",
       "1219870   -85.182500\n",
       "41833     -87.624950\n",
       "1201292   -86.100000\n",
       "1201296   -86.110000\n",
       "             ...    \n",
       "67358     -85.018375\n",
       "52504     -86.269300\n",
       "44897     -85.526568\n",
       "44892     -86.125925\n",
       "44893     -85.979525\n",
       "50733     -85.090104\n",
       "95319     -86.744100\n",
       "45        -85.175000\n",
       "40        -86.326000\n",
       "1569      -87.660000\n",
       "30084     -86.460984\n",
       "30082     -86.628925\n",
       "30083     -86.900000\n",
       "18067     -86.880000\n",
       "15270     -86.780000\n",
       "61673     -85.729975\n",
       "8557      -86.160000\n",
       "8555      -85.380000\n",
       "89571     -85.525000\n",
       "76897     -87.402500\n",
       "39212     -84.922200\n",
       "87819     -85.515175\n",
       "15071     -85.488496\n",
       "39218     -86.740000\n",
       "87816     -86.486777\n",
       "87760     -85.700000\n",
       "1585      -87.405000\n",
       "1215474   -87.150000\n",
       "50424     -86.815000\n",
       "65526     -87.335000\n",
       "Name: LON, dtype: float64"
      ]
     },
     "execution_count": 15,
     "metadata": {},
     "output_type": "execute_result"
    }
   ],
   "source": [
    "df['LON']"
   ]
  },
  {
   "cell_type": "code",
   "execution_count": null,
   "metadata": {
    "collapsed": true
   },
   "outputs": [],
   "source": []
  }
 ],
 "metadata": {
  "anaconda-cloud": {},
  "kernelspec": {
   "display_name": "Python [Root]",
   "language": "python",
   "name": "Python [Root]"
  },
  "language_info": {
   "codemirror_mode": {
    "name": "ipython",
    "version": 2
   },
   "file_extension": ".py",
   "mimetype": "text/x-python",
   "name": "python",
   "nbconvert_exporter": "python",
   "pygments_lexer": "ipython2",
   "version": "2.7.12"
  }
 },
 "nbformat": 4,
 "nbformat_minor": 0
}
