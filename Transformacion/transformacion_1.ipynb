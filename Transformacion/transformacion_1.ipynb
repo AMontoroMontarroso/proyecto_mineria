{
 "cells": [
  {
   "cell_type": "code",
   "execution_count": 1,
   "metadata": {
    "collapsed": true
   },
   "outputs": [],
   "source": [
    "import pandas as pd\n",
    "import csv\n",
    "import numpy as np\n",
    "import math"
   ]
  },
  {
   "cell_type": "code",
   "execution_count": 2,
   "metadata": {
    "collapsed": true
   },
   "outputs": [],
   "source": [
    "#Utilizamos la Proyeccion de Mercator para medir la longitud entre puntos dados por una latitud y longitud\n",
    "# teniendo en cuenta tambien la curvatura de la tierra\n",
    "\n",
    "def merc_x(lon):\n",
    "  r_major=6378137.000\n",
    "  return r_major*math.radians(lon)\n",
    "\n",
    "def merc_y(lat):\n",
    "  if lat>89.5:lat=89.5\n",
    "  if lat<-89.5:lat=-89.5\n",
    "  r_major=6378137.000\n",
    "  r_minor=6356752.3142\n",
    "  temp=r_minor/r_major\n",
    "  eccent=math.sqrt(1-temp**2)\n",
    "  phi=math.radians(lat)\n",
    "  sinphi=math.sin(phi)\n",
    "  con=eccent*sinphi\n",
    "  com=eccent/2\n",
    "  con=((1.0-con)/(1.0+con))**com\n",
    "  ts=math.tan((math.pi/2-phi)/2)/con\n",
    "  y=0-r_major*math.log(ts)\n",
    "  return y\n",
    "\n",
    "#Distancia entre dos punto geograficos. Se obtiene sus proyecciones Mercator y la distancia euclidea entre ellas en km\n",
    "def dist(p1lon,p1lat,p2lon,p2lat):\n",
    "\tx1=merc_x(p1lon)\n",
    "\tx2=merc_x(p2lon)\n",
    "\ty1=merc_y(p1lat)\n",
    "\ty2=merc_y(p2lat)\n",
    "\treturn math.sqrt((x1-x2)**2+(y1-y2)**2) / 1000"
   ]
  },
  {
   "cell_type": "code",
   "execution_count": 3,
   "metadata": {
    "collapsed": true
   },
   "outputs": [],
   "source": [
    "#Abrimos el fichero del preproceso\n",
    "f = open('../Data/Preproceso/storms_final_preproceso.csv')\n",
    "csv_f = csv.reader(f)\n",
    "cabeceras = csv_f.next()\n",
    "\n",
    "tabla_pre = dict()\n",
    "\n",
    "for row in csv_f:\n",
    "    ep = dict(zip(cabeceras, row))\n",
    "    if row[11] in tabla_pre:\n",
    "        tabla_pre[row[11]].append(ep)\n",
    "    else:\n",
    "        tabla_pre[row[11]] = [ep]"
   ]
  },
  {
   "cell_type": "code",
   "execution_count": 4,
   "metadata": {
    "collapsed": false
   },
   "outputs": [
    {
     "name": "stderr",
     "output_type": "stream",
     "text": [
      "/home/pablo/anaconda2/lib/python2.7/site-packages/ipykernel/__main__.py:23: DeprecationWarning: elementwise == comparison failed; this will raise an error in the future.\n",
      "/home/pablo/anaconda2/lib/python2.7/site-packages/ipykernel/__main__.py:28: DeprecationWarning: elementwise == comparison failed; this will raise an error in the future.\n"
     ]
    }
   ],
   "source": [
    "\"\"\"\n",
    "Disinguid entre episodio y evento. Un episodio esta definido por varios eventos!!\n",
    "\n",
    "Vamos a definir cada tormenta por los atriburos mostrado en el diccionario que se ve abajo. \n",
    "El granizo se mide por su tamaño. El viento, la lluvia, la nieve y el tornado va por graduacion según\n",
    "sea el evento. Normalmente se etiquetan de 0 a 3, siendo el 0 que no hay tal evento y el 3 la maxima intensidad.\n",
    "\n",
    "Las fechas se cogeran como BEGIN_DATE la del primer evento que aparecio en el episodio\n",
    "Como END_DATE la del ultimo evento del episodio.\n",
    "\n",
    "Las posiciones del episodio se fijan de la siguiente manera:\n",
    "Se pone como centro de un evento la media de su posicion final e inicial. Se fija como el centro del episodio la media de todas las longitudes de los eventos como la longitud y la media\n",
    "de todas las latitudes de los eventos como la latitud del episodio. \n",
    "\n",
    "Centro_ev = (ini + fin) / 2\n",
    "Centro_ep = media centros_ev de su episodio\n",
    "\n",
    "El radio(RANGE) se fija como la distancia del centro del episodio (ya definido) a el evento mas lejano mas el radio,\n",
    "es decir, el radio del episodio sera aquel que maximice la siguiente funcion:\n",
    "        f(evento) = radio(evento) + distancia(centro_episodio, centro_evento)\n",
    "        \n",
    "Todas estas distancias medidas con la Proyeccion de Mercator\n",
    "\"\"\"\n",
    "    \n",
    "\n",
    "tabla_trans = []\n",
    "\n",
    "for ep_id in tabla_pre:\n",
    "    ep_trans = {'EPISODE_ID':  0,\n",
    "                'DURACION':    0,\n",
    "                'BEGIN_DATE' : 0,\n",
    "                'END_DATE' :   0,\n",
    "                'LAT' :        0,\n",
    "                'LON' :        0,\n",
    "                'RANGE':       0,\n",
    "                'LLUVIA':      0,\n",
    "                'VIENTO':      0,\n",
    "                'TORNADO':     0,\n",
    "                'GRANIZO':     0,\n",
    "                'NIEVE':       0,\n",
    "                'T. ELECTRICA':0                 \n",
    "    }\n",
    "    \n",
    "    episodio = tabla_pre[ep_id]\n",
    "    latitudes, longitudes, radios = [], [], []\n",
    "    \n",
    "    for evento in episodio: \n",
    "        if ep_trans['BEGIN_DATE'] == 0:\n",
    "            ep_trans['BEGIN_DATE'] = np.datetime64(evento['BEGIN_DATE_TIME'])\n",
    "        elif ep_trans['BEGIN_DATE'] >= np.datetime64(evento['BEGIN_DATE_TIME']):\n",
    "            ep_trans['BEGIN_DATE'] = np.datetime64(evento['BEGIN_DATE_TIME'])\n",
    "            \n",
    "        if ep_trans['END_DATE'] == 0:\n",
    "            ep_trans['END_DATE'] = np.datetime64(evento['END_DATE_TIME'])\n",
    "        elif ep_trans['END_DATE'] <= np.datetime64(evento['END_DATE_TIME']):\n",
    "            ep_trans['END_DATE'] = np.datetime64(evento['END_DATE_TIME'])\n",
    "                                 \n",
    "        if evento['EVENT_TYPE'] == 'Heavy Rain' and ep_trans['LLUVIA'] == 0:\n",
    "            ep_trans['LLUVIA'] = 1\n",
    "        elif evento['EVENT_TYPE'] == 'Flood' and ep_trans['LLUVIA'] <= 1:\n",
    "            ep_trans['LLUVIA'] = 2\n",
    "        elif evento['EVENT_TYPE'] == 'Flash Flood' and ep_trans['LLUVIA'] <= 2:\n",
    "            ep_trans['LLUVIA'] = 3\n",
    "        elif evento['EVENT_TYPE'] == 'Strong Wind' and ep_trans['VIENTO'] <= evento['MAGNITUDE']:\n",
    "            ep_trans['VIENTO'] = 1\n",
    "        elif evento['EVENT_TYPE'] == 'High Wind' and ep_trans['VIENTO'] <= evento['MAGNITUDE']:\n",
    "            ep_trans['VIENTO'] = 2\n",
    "        elif evento['EVENT_TYPE'] == 'Thunderstorm Wind' and ep_trans['VIENTO'] <= evento['MAGNITUDE']:\n",
    "            ep_trans['VIENTO'] = 3\n",
    "        elif evento['EVENT_TYPE'] == 'Tornado':\n",
    "            ep_trans['TORNADO'] = int(evento['TOR_F_SCALE'][-1]) + 1 \n",
    "        elif evento['EVENT_TYPE'] == 'Hail' and ep_trans['GRANIZO'] < evento['MAGNITUDE']:\n",
    "            ep_trans['GRANIZO'] = evento['MAGNITUDE']\n",
    "        elif evento['EVENT_TYPE'] == 'Winter Storm':\n",
    "            ep_trans['NIEVE'] = 1\n",
    "        elif evento['EVENT_TYPE'] == 'Heavy Snow':\n",
    "            ep_trans['NIEVE'] = 1\n",
    "        elif evento['EVENT_TYPE'] == 'Lightning':\n",
    "            evento['T. ELECTRICA'] = 1\n",
    "            \n",
    "        ep_trans['EPISODE_ID'] = ep_id\n",
    "       \n",
    "        latitud = (float(evento['BEGIN_LAT']) + float(evento['END_LAT'])) / 2\n",
    "        longitud = (float(evento['BEGIN_LON']) + float(evento['END_LON'])) / 2\n",
    "        radio = float(evento['RANGE']) + dist(float(evento['BEGIN_LON']), float(evento['BEGIN_LAT']), longitud, latitud)\n",
    "        \n",
    "        latitudes.append(latitud)\n",
    "        longitudes.append(longitud)\n",
    "        radios.append(radio)\n",
    "    \n",
    "    \n",
    "    centro = (np.average(longitudes), np.average(latitudes))\n",
    "    \n",
    "    distan = 0\n",
    "    for lon, lat, r in zip(longitudes, latitudes, radios):\n",
    "        d = dist(centro[0], centro[1], lon, lat) +  r\n",
    "        if d > distan:\n",
    "            distan = d\n",
    "    \n",
    "    ep_trans['LON'] = centro[0]\n",
    "    ep_trans['LAT'] = centro[1]\n",
    "    ep_trans['RANGE'] = distan\n",
    "        \n",
    "    tabla_trans.append(ep_trans)    "
   ]
  },
  {
   "cell_type": "code",
   "execution_count": 5,
   "metadata": {
    "collapsed": false
   },
   "outputs": [],
   "source": [
    "#El atributo duracion esta medido en horas\n",
    "df = pd.DataFrame(tabla_trans)\n",
    "df = df.set_index('EPISODE_ID')\n",
    "df['DURACION'] = (df['END_DATE'] - df['BEGIN_DATE']) / np.timedelta64(1, 'h')\n",
    "\n",
    "#Eliminarmos aquellas que duran menos de 15 minutos y mas de 4 dias. Las consideraremos ruido (datos mal introducidos)\n",
    "df = df[df['DURACION'] > .25] \n",
    "df = df[df['DURACION'] < 96]"
   ]
  },
  {
   "cell_type": "code",
   "execution_count": 6,
   "metadata": {
    "collapsed": true
   },
   "outputs": [],
   "source": [
    "#Guardamos el resultado de este paso de tranformacion\n",
    "df.to_csv('../Data/Transformacion/transformacion.csv')"
   ]
  },
  {
   "cell_type": "code",
   "execution_count": 7,
   "metadata": {
    "collapsed": false
   },
   "outputs": [],
   "source": [
    "import matplotlib.pyplot as plt\n",
    "\n",
    "plt.scatter(df['LON'], df['LAT'], s = df['RANGE'], alpha=0.7)\n",
    "plt.show()"
   ]
  }
 ],
 "metadata": {
  "anaconda-cloud": {},
  "kernelspec": {
   "display_name": "Python [Root]",
   "language": "python",
   "name": "Python [Root]"
  },
  "language_info": {
   "codemirror_mode": {
    "name": "ipython",
    "version": 2
   },
   "file_extension": ".py",
   "mimetype": "text/x-python",
   "name": "python",
   "nbconvert_exporter": "python",
   "pygments_lexer": "ipython2",
   "version": "2.7.12"
  }
 },
 "nbformat": 4,
 "nbformat_minor": 0
}
