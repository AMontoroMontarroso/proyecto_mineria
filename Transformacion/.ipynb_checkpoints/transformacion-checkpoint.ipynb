{
 "cells": [
  {
   "cell_type": "code",
   "execution_count": 23,
   "metadata": {
    "collapsed": true
   },
   "outputs": [],
   "source": [
    "import pandas as pd\n",
    "import csv\n",
    "import numpy as np"
   ]
  },
  {
   "cell_type": "code",
   "execution_count": 2,
   "metadata": {
    "collapsed": true
   },
   "outputs": [],
   "source": [
    "f = open('../Data/Preproceso/storms_final_preproceso.csv')\n",
    "csv_f = csv.reader(f)"
   ]
  },
  {
   "cell_type": "code",
   "execution_count": 3,
   "metadata": {
    "collapsed": true
   },
   "outputs": [],
   "source": [
    "cabeceras = csv_f.next()"
   ]
  },
  {
   "cell_type": "code",
   "execution_count": 4,
   "metadata": {
    "collapsed": false
   },
   "outputs": [
    {
     "data": {
      "text/plain": [
       "['EVENT_ID',\n",
       " 'BEGIN_DATE_TIME',\n",
       " 'BEGIN_LAT',\n",
       " 'BEGIN_LON',\n",
       " 'DAMAGE_CROPS',\n",
       " 'DAMAGE_PROPERTY',\n",
       " 'DEATHS_DIRECT',\n",
       " 'DEATHS_INDIRECT',\n",
       " 'END_DATE_TIME',\n",
       " 'END_LAT',\n",
       " 'END_LON',\n",
       " 'EPISODE_ID',\n",
       " 'EVENT_TYPE',\n",
       " 'INJURIES_DIRECT',\n",
       " 'INJURIES_INDIRECT',\n",
       " 'MAGNITUDE',\n",
       " 'RANGE']"
      ]
     },
     "execution_count": 4,
     "metadata": {},
     "output_type": "execute_result"
    }
   ],
   "source": [
    "cabeceras"
   ]
  },
  {
   "cell_type": "code",
   "execution_count": 5,
   "metadata": {
    "collapsed": true
   },
   "outputs": [],
   "source": [
    "tabla_pre = dict()\n",
    "\n",
    "for row in csv_f:\n",
    "    ep = dict(zip(cabeceras, row))\n",
    "    if row[11] in tabla_pre:\n",
    "        tabla_pre[row[11]].append(ep)\n",
    "    else:\n",
    "        tabla_pre[row[11]] = [ep]"
   ]
  },
  {
   "cell_type": "code",
   "execution_count": 26,
   "metadata": {
    "collapsed": false
   },
   "outputs": [
    {
     "name": "stderr",
     "output_type": "stream",
     "text": [
      "/home/pablo/anaconda2/lib/python2.7/site-packages/ipykernel/__main__.py:20: DeprecationWarning: elementwise == comparison failed; this will raise an error in the future.\n",
      "/home/pablo/anaconda2/lib/python2.7/site-packages/ipykernel/__main__.py:25: DeprecationWarning: elementwise == comparison failed; this will raise an error in the future.\n"
     ]
    }
   ],
   "source": [
    "tabla_trans = []\n",
    "\n",
    "for ep_id in tabla_pre:\n",
    "    ep_trans = {'EPISODE_ID':  0,\n",
    "                'BEGIN_DATE' : 0,\n",
    "                'END_DATE' :   0,\n",
    "                'LAT' :        0,\n",
    "                'LON' :        0,\n",
    "                'RANGE':       0,\n",
    "                'LLUVIA':      0,\n",
    "                'VIENTO':      0,\n",
    "                'TORNADO':     0,\n",
    "                'GRANIZO':     0,\n",
    "                'NIEVE':       0,\n",
    "                'T. ELECTRICA':0                 \n",
    "    }\n",
    "    \n",
    "    episodio = tabla_pre[ep_id]\n",
    "    for evento in episodio: \n",
    "        if ep_trans['BEGIN_DATE'] == 0:\n",
    "            ep_trans['BEGIN_DATE'] = np.datetime64(evento['BEGIN_DATE_TIME'])\n",
    "        elif ep_trans['BEGIN_DATE'] >= np.datetime64(evento['BEGIN_DATE_TIME']):\n",
    "            ep_trans['BEGIN_DATE'] = np.datetime64(evento['BEGIN_DATE_TIME'])\n",
    "            \n",
    "        if ep_trans['END_DATE'] == 0:\n",
    "            ep_trans['END_DATE'] = np.datetime64(evento['END_DATE_TIME'])\n",
    "        elif ep_trans['END_DATE'] <= np.datetime64(evento['END_DATE_TIME']):\n",
    "            ep_trans['END_DATE'] = np.datetime64(evento['END_DATE_TIME'])\n",
    "        \n",
    "        if evento['EVENT_TYPE'] == 'Heavy Rain' and ep_trans['LLUVIA'] == 0:\n",
    "            ep_trans['LLUVIA'] = 1\n",
    "        elif evento['EVENT_TYPE'] == 'Flood' and ep_trans['LLUVIA'] <= 1:\n",
    "            ep_trans['LLUVIA'] = 2\n",
    "        elif evento['EVENT_TYPE'] == 'Flash Flood' and ep_trans['LLUVIA'] <= 2:\n",
    "            ep_trans['LLUVIA'] = 3\n",
    "        elif evento['EVENT_TYPE'] == 'Strong Wind' and ep_trans['VIENTO'] <= evento['MAGNITUDE']:\n",
    "            ep_trans['VIENTO'] = 1\n",
    "        elif evento['EVENT_TYPE'] == 'High Wind' and ep_trans['VIENTO'] <= evento['MAGNITUDE']:\n",
    "            ep_trans['VIENTO'] = 2\n",
    "        elif evento['EVENT_TYPE'] == 'Thunderstorm Wind' and ep_trans['VIENTO'] <= evento['MAGNITUDE']:\n",
    "            ep_trans['VIENTO'] = 3\n",
    "        elif evento['EVENT_TYPE'] == 'Tornado':\n",
    "            ep_trans['TORNADO'] = 1 #Cambiar por nivel\n",
    "        elif evento['EVENT_TYPE'] == 'Hail' and ep_trans['GRANIZO'] < evento['MAGNITUDE']:\n",
    "            ep_trans['GRANIZO'] = evento['MAGNITUDE']\n",
    "        elif evento['EVENT_TYPE'] == 'Winter Storm':\n",
    "            ep_trans['NIEVE'] = 1\n",
    "        elif evento['EVENT_TYPE'] == 'Heavy Snow':\n",
    "            ep_trans['NIEVE'] = 1\n",
    "        elif evento['EVENT_TYPE'] == 'Lightning':\n",
    "            evento['T. ELECTRICA'] = 1\n",
    "        else:\n",
    "            #print evento['EVENT_TYPE']\n",
    "            pass\n",
    "        ep_trans['EPISODE_ID'] = ep_id\n",
    "    tabla_trans.append(ep_trans)\n",
    "        \n",
    "        "
   ]
  },
  {
   "cell_type": "code",
   "execution_count": 27,
   "metadata": {
    "collapsed": false
   },
   "outputs": [],
   "source": [
    "df = pd.DataFrame(tabla_trans)\n",
    "df = df.set_index('EPISODE_ID')\n",
    "df.to_csv('../Data/Transformacion/transformacion.csv')"
   ]
  },
  {
   "cell_type": "code",
   "execution_count": null,
   "metadata": {
    "collapsed": true
   },
   "outputs": [],
   "source": []
  }
 ],
 "metadata": {
  "kernelspec": {
   "display_name": "Python [Root]",
   "language": "python",
   "name": "Python [Root]"
  },
  "language_info": {
   "codemirror_mode": {
    "name": "ipython",
    "version": 2
   },
   "file_extension": ".py",
   "mimetype": "text/x-python",
   "name": "python",
   "nbconvert_exporter": "python",
   "pygments_lexer": "ipython2",
   "version": "2.7.12"
  }
 },
 "nbformat": 4,
 "nbformat_minor": 0
}
