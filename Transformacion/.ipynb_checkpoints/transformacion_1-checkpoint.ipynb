{
 "cells": [
  {
   "cell_type": "code",
   "execution_count": 1,
   "metadata": {
    "collapsed": true
   },
   "outputs": [],
   "source": [
    "import pandas as pd\n",
    "import csv\n",
    "import numpy as np"
   ]
  },
  {
   "cell_type": "code",
   "execution_count": 2,
   "metadata": {
    "collapsed": true
   },
   "outputs": [],
   "source": [
    "f = open('../Data/Preproceso/storms_final_preproceso.csv')\n",
    "csv_f = csv.reader(f)\n",
    "cabeceras = csv_f.next()\n",
    "\n",
    "tabla_pre = dict()\n",
    "\n",
    "for row in csv_f:\n",
    "    ep = dict(zip(cabeceras, row))\n",
    "    if row[11] in tabla_pre:\n",
    "        tabla_pre[row[11]].append(ep)\n",
    "    else:\n",
    "        tabla_pre[row[11]] = [ep]"
   ]
  },
  {
   "cell_type": "code",
   "execution_count": 3,
   "metadata": {
    "collapsed": false
   },
   "outputs": [
    {
     "name": "stderr",
     "output_type": "stream",
     "text": [
      "/home/pablo/anaconda2/lib/python2.7/site-packages/ipykernel/__main__.py:22: DeprecationWarning: elementwise == comparison failed; this will raise an error in the future.\n",
      "/home/pablo/anaconda2/lib/python2.7/site-packages/ipykernel/__main__.py:27: DeprecationWarning: elementwise == comparison failed; this will raise an error in the future.\n"
     ]
    }
   ],
   "source": [
    "tabla_trans = []\n",
    "\n",
    "for ep_id in tabla_pre:\n",
    "    ep_trans = {'EPISODE_ID':  0,\n",
    "                'BEGIN_DATE' : 0,\n",
    "                'END_DATE' :   0,\n",
    "                'LAT' :        0,\n",
    "                'LON' :        0,\n",
    "                'RANGE':       0,\n",
    "                'LLUVIA':      0,\n",
    "                'VIENTO':      0,\n",
    "                'TORNADO':     0,\n",
    "                'GRANIZO':     0,\n",
    "                'NIEVE':       0,\n",
    "                'T. ELECTRICA':0                 \n",
    "    }\n",
    "    \n",
    "    episodio = tabla_pre[ep_id]\n",
    "    latitudes, longitudes, radios = [], [], []\n",
    "    \n",
    "    for evento in episodio: \n",
    "        if ep_trans['BEGIN_DATE'] == 0:\n",
    "            ep_trans['BEGIN_DATE'] = np.datetime64(evento['BEGIN_DATE_TIME'])\n",
    "        elif ep_trans['BEGIN_DATE'] >= np.datetime64(evento['BEGIN_DATE_TIME']):\n",
    "            ep_trans['BEGIN_DATE'] = np.datetime64(evento['BEGIN_DATE_TIME'])\n",
    "            \n",
    "        if ep_trans['END_DATE'] == 0:\n",
    "            ep_trans['END_DATE'] = np.datetime64(evento['END_DATE_TIME'])\n",
    "        elif ep_trans['END_DATE'] <= np.datetime64(evento['END_DATE_TIME']):\n",
    "            ep_trans['END_DATE'] = np.datetime64(evento['END_DATE_TIME'])\n",
    "        \n",
    "        if evento['EVENT_TYPE'] == 'Heavy Rain' and ep_trans['LLUVIA'] == 0:\n",
    "            ep_trans['LLUVIA'] = 1\n",
    "        elif evento['EVENT_TYPE'] == 'Flood' and ep_trans['LLUVIA'] <= 1:\n",
    "            ep_trans['LLUVIA'] = 2\n",
    "        elif evento['EVENT_TYPE'] == 'Flash Flood' and ep_trans['LLUVIA'] <= 2:\n",
    "            ep_trans['LLUVIA'] = 3\n",
    "        elif evento['EVENT_TYPE'] == 'Strong Wind' and ep_trans['VIENTO'] <= evento['MAGNITUDE']:\n",
    "            ep_trans['VIENTO'] = 1\n",
    "        elif evento['EVENT_TYPE'] == 'High Wind' and ep_trans['VIENTO'] <= evento['MAGNITUDE']:\n",
    "            ep_trans['VIENTO'] = 2\n",
    "        elif evento['EVENT_TYPE'] == 'Thunderstorm Wind' and ep_trans['VIENTO'] <= evento['MAGNITUDE']:\n",
    "            ep_trans['VIENTO'] = 3\n",
    "        elif evento['EVENT_TYPE'] == 'Tornado':\n",
    "            ep_trans['TORNADO'] = int(evento['TOR_F_SCALE'][-1]) + 1 \n",
    "        elif evento['EVENT_TYPE'] == 'Hail' and ep_trans['GRANIZO'] < evento['MAGNITUDE']:\n",
    "            ep_trans['GRANIZO'] = evento['MAGNITUDE']\n",
    "        elif evento['EVENT_TYPE'] == 'Winter Storm':\n",
    "            ep_trans['NIEVE'] = 1\n",
    "        elif evento['EVENT_TYPE'] == 'Heavy Snow':\n",
    "            ep_trans['NIEVE'] = 1\n",
    "        elif evento['EVENT_TYPE'] == 'Lightning':\n",
    "            evento['T. ELECTRICA'] = 1\n",
    "            \n",
    "        ep_trans['EPISODE_ID'] = ep_id\n",
    "       \n",
    "        latitud = (float(evento['BEGIN_LAT']) + float(evento['END_LAT'])) / 2\n",
    "        longitud = (float(evento['BEGIN_LON']) + float(evento['END_LON'])) / 2\n",
    "        radio = float(evento['RANGE']) + np.sqrt((float(evento['BEGIN_LAT']) - latitud)** 2 \n",
    "                                                 + (float(evento['BEGIN_LON']) - longitud)**2)\n",
    "        \n",
    "        latitudes.append(latitud)\n",
    "        longitudes.append(longitud)\n",
    "        radios.append(radio)\n",
    "    \n",
    "    \n",
    "    centro = (np.average(longitudes), np.average(latitudes))\n",
    "    \n",
    "    dist = 0\n",
    "    for lon, lat, r in zip(longitudes, latitudes, radios):\n",
    "        d = np.sqrt((centro[0]-lon)**2 + (centro[1]-lat)**2) + r\n",
    "        if d > dist:\n",
    "            dist = d\n",
    "    \n",
    "    ep_trans['LON'] = centro[0]\n",
    "    ep_trans['LAT'] = centro[1]\n",
    "    ep_trans['RANGE'] = dist\n",
    "        \n",
    "    tabla_trans.append(ep_trans)    "
   ]
  },
  {
   "cell_type": "code",
   "execution_count": 4,
   "metadata": {
    "collapsed": false
   },
   "outputs": [],
   "source": [
    "df = pd.DataFrame(tabla_trans)\n",
    "df = df.set_index('EPISODE_ID')\n",
    "df.to_csv('../Data/Transformacion/transformacion.csv')"
   ]
  },
  {
   "cell_type": "code",
   "execution_count": 5,
   "metadata": {
    "collapsed": false
   },
   "outputs": [],
   "source": [
    "import matplotlib.pyplot as plt\n",
    "\n",
    "plt.scatter(df['LON'], df['LAT'], s = df['RANGE']*5, alpha=0.7)\n",
    "plt.show()"
   ]
  }
 ],
 "metadata": {
  "anaconda-cloud": {},
  "kernelspec": {
   "display_name": "Python [Root]",
   "language": "python",
   "name": "Python [Root]"
  },
  "language_info": {
   "codemirror_mode": {
    "name": "ipython",
    "version": 2
   },
   "file_extension": ".py",
   "mimetype": "text/x-python",
   "name": "python",
   "nbconvert_exporter": "python",
   "pygments_lexer": "ipython2",
   "version": "2.7.12"
  }
 },
 "nbformat": 4,
 "nbformat_minor": 0
}
