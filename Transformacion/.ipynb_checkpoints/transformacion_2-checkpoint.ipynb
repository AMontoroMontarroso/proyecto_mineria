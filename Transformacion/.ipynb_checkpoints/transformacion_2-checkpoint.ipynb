{
 "cells": [
  {
   "cell_type": "code",
   "execution_count": 1,
   "metadata": {
    "collapsed": true
   },
   "outputs": [],
   "source": [
    "import csv\n",
    "import numpy as np\n",
    "import pandas as pd"
   ]
  },
  {
   "cell_type": "code",
   "execution_count": 4,
   "metadata": {
    "collapsed": true
   },
   "outputs": [],
   "source": [
    "#Utilizamos la misma funcion de la proyeccion de Mercator (perdon por el copia y pega :)\n",
    "\n",
    "import math\n",
    "\n",
    "def merc_x(lon):\n",
    "  r_major=6378137.000\n",
    "  return r_major*math.radians(lon)\n",
    "\n",
    "def merc_y(lat):\n",
    "  if lat>89.5:lat=89.5\n",
    "  if lat<-89.5:lat=-89.5\n",
    "  r_major=6378137.000\n",
    "  r_minor=6356752.3142\n",
    "  temp=r_minor/r_major\n",
    "  eccent=math.sqrt(1-temp**2)\n",
    "  phi=math.radians(lat)\n",
    "  sinphi=math.sin(phi)\n",
    "  con=eccent*sinphi\n",
    "  com=eccent/2\n",
    "  con=((1.0-con)/(1.0+con))**com\n",
    "  ts=math.tan((math.pi/2-phi)/2)/con\n",
    "  y=0-r_major*math.log(ts)\n",
    "  return y\n",
    "\n",
    "#Distancia entre dos punto geograficos. Se obtiene sus proyecciones Mercator y la distancia euclidea entre ellas en km\n",
    "def dist(p1lon,p1lat,p2lon,p2lat):\n",
    "\tx1=merc_x(p1lon)\n",
    "\tx2=merc_x(p2lon)\n",
    "\ty1=merc_y(p1lat)\n",
    "\ty2=merc_y(p2lat)\n",
    "\treturn math.sqrt((x1-x2)**2+(y1-y2)**2) / 1000"
   ]
  },
  {
   "cell_type": "code",
   "execution_count": 5,
   "metadata": {
    "collapsed": false
   },
   "outputs": [],
   "source": [
    "#Leemos los accidentes\n",
    "f_accidents = open('../Data/Preproceso/accidents.csv')\n",
    "accidents_csv = csv.reader(f_accidents)\n",
    "headers_accidents = accidents_csv.next()\n",
    "accidents = []\n",
    "for row in accidents_csv:\n",
    "    accidents.append(row[2:])"
   ]
  },
  {
   "cell_type": "code",
   "execution_count": 6,
   "metadata": {
    "collapsed": false
   },
   "outputs": [],
   "source": [
    "#Leemos las tormentas\n",
    "f_storms = open('../Data/Transformacion/transformacion.csv')\n",
    "storms_csv = csv.reader(f_storms)\n",
    "headers_storms = storms_csv.next()\n",
    "storms = []\n",
    "for row in storms_csv:\n",
    "    storms.append(row)"
   ]
  },
  {
   "cell_type": "code",
   "execution_count": 7,
   "metadata": {
    "collapsed": false
   },
   "outputs": [],
   "source": [
    "#Cruzamos los accidentes con las tormentas. Para ello debe darse la siguiente situacion:\n",
    "#EL accidentes ha ocurrido en un periodo de tiempo en el que habia tormenta y en su radio.\n",
    "#Ademas el conductor no debe haber bebido. De esta manera quitamos aquellos accidentes que hayan ocurrido\n",
    "# por causa del alcohol mas que por la tormenta\n",
    "accidentes_provocados = [0] * len(storms)\n",
    "for i, storm in enumerate(storms):\n",
    "    for accident in accidents:\n",
    "        if dist(float(storm[7]), float(storm[5]), float(accident[3]), float(accident[2])) <= float(storm[9]) and np.datetime64(storm[1]) <= np.datetime64(accident[5]) <= np.datetime64(storm[3]) and float(accident[0]) <= 0:\n",
    "            accidentes_provocados[i] += 1"
   ]
  },
  {
   "cell_type": "code",
   "execution_count": 8,
   "metadata": {
    "collapsed": true
   },
   "outputs": [],
   "source": [
    "#Creamos otra columna en la tabla que indique el numero de accidentes\n",
    "for i in range(len(storms)):\n",
    "    storms[i].append(accidentes_provocados[i])\n",
    "\n",
    "headers_storms.append('ACCIDENTES')\n",
    "df = pd.DataFrame(storms, columns=headers_storms)\n",
    "df.to_csv('../Data/Transformacion/transformacion2.csv', index='EPISODE_ID')"
   ]
  },
  {
   "cell_type": "code",
   "execution_count": 9,
   "metadata": {
    "collapsed": false
   },
   "outputs": [],
   "source": [
    "#Simple visualizacion. Punto mas gordo cuantos mas accidentes haya\n",
    "import matplotlib.pyplot as plt\n",
    "\n",
    "df_accidents = df[df['ACCIDENTES'] > 0]\n",
    "\n",
    "plt.scatter(df_accidents['LON'].astype(float), df_accidents['LAT'].astype(float), s = df_accidents['ACCIDENTES'].astype(float)*4)\n",
    "plt.show()"
   ]
  }
 ],
 "metadata": {
  "anaconda-cloud": {},
  "kernelspec": {
   "display_name": "Python [Root]",
   "language": "python",
   "name": "Python [Root]"
  },
  "language_info": {
   "codemirror_mode": {
    "name": "ipython",
    "version": 2
   },
   "file_extension": ".py",
   "mimetype": "text/x-python",
   "name": "python",
   "nbconvert_exporter": "python",
   "pygments_lexer": "ipython2",
   "version": "2.7.12"
  }
 },
 "nbformat": 4,
 "nbformat_minor": 0
}
