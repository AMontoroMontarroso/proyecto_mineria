{
 "cells": [
  {
   "cell_type": "code",
   "execution_count": 1,
   "metadata": {
    "collapsed": true
   },
   "outputs": [],
   "source": [
    "import csv\n",
    "import numpy as np\n",
    "import pandas as pd"
   ]
  },
  {
   "cell_type": "code",
   "execution_count": 2,
   "metadata": {
    "collapsed": false
   },
   "outputs": [],
   "source": [
    "f_accidents = open('../Data/Preproceso/accidents.csv')\n",
    "accidents_csv = csv.reader(f_accidents)\n",
    "headers_accidents = accidents_csv.next()\n",
    "accidents = []\n",
    "for row in accidents_csv:\n",
    "    accidents.append(row[2:])"
   ]
  },
  {
   "cell_type": "code",
   "execution_count": 3,
   "metadata": {
    "collapsed": true
   },
   "outputs": [],
   "source": [
    "f_storms = open('../Data/Transformacion/transformacion.csv')\n",
    "storms_csv = csv.reader(f_storms)\n",
    "headers_storms = storms_csv.next()\n",
    "storms = []\n",
    "for row in storms_csv:\n",
    "    storms.append(row)"
   ]
  },
  {
   "cell_type": "code",
   "execution_count": 4,
   "metadata": {
    "collapsed": true
   },
   "outputs": [],
   "source": [
    "import math\n",
    "\n",
    "def merc_x(lon):\n",
    "  r_major=6378137.000\n",
    "  return r_major*math.radians(lon)\n",
    "\n",
    "def merc_y(lat):\n",
    "  if lat>89.5:lat=89.5\n",
    "  if lat<-89.5:lat=-89.5\n",
    "  r_major=6378137.000\n",
    "  r_minor=6356752.3142\n",
    "  temp=r_minor/r_major\n",
    "  eccent=math.sqrt(1-temp**2)\n",
    "  phi=math.radians(lat)\n",
    "  sinphi=math.sin(phi)\n",
    "  con=eccent*sinphi\n",
    "  com=eccent/2\n",
    "  con=((1.0-con)/(1.0+con))**com\n",
    "  ts=math.tan((math.pi/2-phi)/2)/con\n",
    "  y=0-r_major*math.log(ts)\n",
    "  return y\n",
    "\n",
    "#Distancia entre dos punto geograficos. Se obtiene sus proyecciones Mercator y la distancia euclidea entre ellas en km\n",
    "def dist(p1lon,p1lat,p2lon,p2lat):\n",
    "\tx1=merc_x(p1lon)\n",
    "\tx2=merc_x(p2lon)\n",
    "\ty1=merc_y(p1lat)\n",
    "\ty2=merc_y(p2lat)\n",
    "\treturn math.sqrt((x1-x2)**2+(y1-y2)**2) / 1000"
   ]
  },
  {
   "cell_type": "code",
   "execution_count": 5,
   "metadata": {
    "collapsed": false
   },
   "outputs": [],
   "source": [
    "f_accidents = open('../Data/Preproceso/accidents.csv')\n",
    "accidents_csv = csv.reader(f_accidents)\n",
    "headers_accidents = accidents_csv.next()\n",
    "accidents = []\n",
    "for row in accidents_csv:\n",
    "    accidents.append(row[2:])"
   ]
  },
  {
   "cell_type": "code",
   "execution_count": 6,
   "metadata": {
    "collapsed": false
   },
   "outputs": [],
   "source": [
    "f_storms = open('../Data/Transformacion/transformacion.csv')\n",
    "storms_csv = csv.reader(f_storms)\n",
    "headers_storms = storms_csv.next()\n",
    "storms = []\n",
    "for row in storms_csv:\n",
    "    storms.append(row)"
   ]
  },
  {
   "cell_type": "code",
   "execution_count": 7,
   "metadata": {
    "collapsed": false
   },
   "outputs": [],
   "source": [
    "accidentes_provocados = [0] * len(storms)\n",
    "for i, storm in enumerate(storms):\n",
    "    for accident in accidents:\n",
    "        if dist(float(storm[6]), float(storm[4]), float(accident[3]), float(accident[2])) <= float(storm[8]) and np.datetime64(storm[1]) <= np.datetime64(accident[5]) <= np.datetime64(storm[2]) and float(accident[0]) <= 0:\n",
    "            accidentes_provocados[i] += 1"
   ]
  },
  {
   "cell_type": "code",
   "execution_count": 8,
   "metadata": {
    "collapsed": true
   },
   "outputs": [],
   "source": [
    "for i in range(len(storms)):\n",
    "    storms[i].append(accidentes_provocados[i])\n",
    "\n",
    "headers_storms.append('ACCIDENTES')\n",
    "df = pd.DataFrame(storms, columns=headers_storms)\n",
    "df.to_csv('../Data/Transformacion/transformacion2.csv', index='EPISODE_ID')"
   ]
  },
  {
   "cell_type": "code",
   "execution_count": 9,
   "metadata": {
    "collapsed": false
   },
   "outputs": [],
   "source": [
    "import matplotlib.pyplot as plt\n",
    "\n",
    "df_accidents = df[df['ACCIDENTES'] > 0]\n",
    "\n",
    "plt.scatter(df_accidents['LON'].astype(float), df_accidents['LAT'].astype(float), s = df_accidents['ACCIDENTES'].astype(float)*4)\n",
    "plt.show()"
   ]
  },
  {
   "cell_type": "code",
   "execution_count": null,
   "metadata": {
    "collapsed": true
   },
   "outputs": [],
   "source": []
  }
 ],
 "metadata": {
  "kernelspec": {
   "display_name": "Python [Root]",
   "language": "python",
   "name": "Python [Root]"
  },
  "language_info": {
   "codemirror_mode": {
    "name": "ipython",
    "version": 2
   },
   "file_extension": ".py",
   "mimetype": "text/x-python",
   "name": "python",
   "nbconvert_exporter": "python",
   "pygments_lexer": "ipython2",
   "version": "2.7.12"
  }
 },
 "nbformat": 4,
 "nbformat_minor": 0
}
