{
 "cells": [
  {
   "cell_type": "code",
   "execution_count": 18,
   "metadata": {
    "collapsed": true
   },
   "outputs": [],
   "source": [
    "import csv\n",
    "import numpy as np"
   ]
  },
  {
   "cell_type": "code",
   "execution_count": 19,
   "metadata": {
    "collapsed": true
   },
   "outputs": [],
   "source": [
    "f = open('../Data/Preproceso/storms.csv')\n",
    "csv_file = csv.reader(f)"
   ]
  },
  {
   "cell_type": "code",
   "execution_count": 20,
   "metadata": {
    "collapsed": true
   },
   "outputs": [],
   "source": [
    "cabeceras = csv_file.next()"
   ]
  },
  {
   "cell_type": "code",
   "execution_count": 21,
   "metadata": {
    "collapsed": false
   },
   "outputs": [],
   "source": [
    "episodios = dict()\n",
    "for row in csv_file:\n",
    "    epi = dict(zip(cabeceras, row))\n",
    "    if row[11] in episodios:\n",
    "        episodios[row[11]].append(epi)\n",
    "    else:\n",
    "        episodios[row[11]] = [epi]"
   ]
  },
  {
   "cell_type": "code",
   "execution_count": 22,
   "metadata": {
    "collapsed": false
   },
   "outputs": [],
   "source": [
    "f2 = open('../Data/Preproceso/locations.csv')\n",
    "csv_file = csv.reader(f2)\n",
    "cabeceras2 = csv_file.next()[1:]"
   ]
  },
  {
   "cell_type": "code",
   "execution_count": 23,
   "metadata": {
    "collapsed": false
   },
   "outputs": [],
   "source": [
    "locations = dict()\n",
    "for row in csv_file:\n",
    "    row = row[1:]\n",
    "    loc = dict(zip(cabeceras2, row))\n",
    "    if row[1] in locations:\n",
    "        locations[row[1]].append(loc)\n",
    "    else:\n",
    "        locations[row[1]] = [loc]"
   ]
  },
  {
   "cell_type": "code",
   "execution_count": 24,
   "metadata": {
    "collapsed": false
   },
   "outputs": [],
   "source": [
    "locations_2 = dict()\n",
    "for ep_id in locations:\n",
    "    ids = []\n",
    "    events = []\n",
    "    ep = locations[ep_id]\n",
    "    for evento in ep:\n",
    "        if not evento['EVENT_ID'] in ids:\n",
    "            ids.append(evento['EVENT_ID'])\n",
    "            events.append(evento)\n",
    "        locations_2[ep_id] = events"
   ]
  },
  {
   "cell_type": "code",
   "execution_count": 25,
   "metadata": {
    "collapsed": false
   },
   "outputs": [],
   "source": [
    "for loc_id in locations_2:\n",
    "    loc = locations_2[loc_id]\n",
    "    ep = episodios[loc_id]\n",
    "    for evento1 in loc:\n",
    "        event_id = evento1['EVENT_ID']\n",
    "        for evento2 in ep:\n",
    "            if evento2['EVENT_ID'] == event_id:\n",
    "                evento2['RANGE'] = float(evento1['RANGE']) * 1.60934"
   ]
  },
  {
   "cell_type": "code",
   "execution_count": 26,
   "metadata": {
    "collapsed": false
   },
   "outputs": [],
   "source": [
    "import pandas as pd"
   ]
  },
  {
   "cell_type": "code",
   "execution_count": 27,
   "metadata": {
    "collapsed": false
   },
   "outputs": [],
   "source": [
    "lista = []\n",
    "for ep_id in episodios:\n",
    "    ep = episodios[ep_id]\n",
    "    for event in ep:\n",
    "        lista.append(event)"
   ]
  },
  {
   "cell_type": "code",
   "execution_count": 28,
   "metadata": {
    "collapsed": true
   },
   "outputs": [],
   "source": [
    "df = pd.DataFrame(lista)\n",
    "df = df.set_index('EVENT_ID')\n",
    "df.to_csv('../Data/Transformacion/transformacion1.csv')"
   ]
  },
  {
   "cell_type": "code",
   "execution_count": 29,
   "metadata": {
    "collapsed": false
   },
   "outputs": [],
   "source": [
    "sumas = dict()\n",
    "\n",
    "for ep_id in episodios:\n",
    "    epi = episodios[ep_id]\n",
    "    for evento in epi:\n",
    "        if 'RANGE' in evento and evento['RANGE'] != '0.0':\n",
    "            if evento['EVENT_TYPE'] in sumas:\n",
    "                sumas[evento['EVENT_TYPE']].append(evento['RANGE'])\n",
    "            else:\n",
    "                sumas[evento['EVENT_TYPE']] = [evento['RANGE']]"
   ]
  },
  {
   "cell_type": "code",
   "execution_count": 30,
   "metadata": {
    "collapsed": false
   },
   "outputs": [],
   "source": [
    "medias = dict()\n",
    "for suma_id in sumas:\n",
    "    medias[suma_id] = np.average(sumas[suma_id])"
   ]
  },
  {
   "cell_type": "code",
   "execution_count": 31,
   "metadata": {
    "collapsed": false
   },
   "outputs": [],
   "source": [
    "for ep_id in episodios:\n",
    "    epi = episodios[ep_id]\n",
    "    for evento in epi:\n",
    "        if not 'RANGE' in evento or evento['RANGE'] == 0:\n",
    "            if evento['EVENT_TYPE'] in medias:\n",
    "                evento['RANGE'] = medias[evento['EVENT_TYPE']]\n",
    "            elif evento['EVENT_TYPE'] in ['Heavy Snow', 'Winter Storm']:\n",
    "                evento['RANGE'] = medias['Heavy Rain']\n",
    "            elif evento['EVENT_TYPE'] in ['Strong Wind', 'High Wind']:\n",
    "                evento['RANGE'] = medias['Thunderstorm Wind']"
   ]
  },
  {
   "cell_type": "code",
   "execution_count": 32,
   "metadata": {
    "collapsed": false
   },
   "outputs": [],
   "source": [
    "lista = []\n",
    "for ep_id in episodios:\n",
    "    ep = episodios[ep_id]\n",
    "    for event in ep:\n",
    "        lista.append(event)\n",
    "\n",
    "df = pd.DataFrame(lista)\n",
    "df = df.set_index('EVENT_ID')\n",
    "df.to_csv('../Data/Transformacion/transformacion2.csv')"
   ]
  },
  {
   "cell_type": "code",
   "execution_count": null,
   "metadata": {
    "collapsed": false
   },
   "outputs": [],
   "source": []
  },
  {
   "cell_type": "code",
   "execution_count": null,
   "metadata": {
    "collapsed": true
   },
   "outputs": [],
   "source": []
  },
  {
   "cell_type": "code",
   "execution_count": null,
   "metadata": {
    "collapsed": true
   },
   "outputs": [],
   "source": []
  }
 ],
 "metadata": {
  "kernelspec": {
   "display_name": "Python [Root]",
   "language": "python",
   "name": "Python [Root]"
  },
  "language_info": {
   "codemirror_mode": {
    "name": "ipython",
    "version": 2
   },
   "file_extension": ".py",
   "mimetype": "text/x-python",
   "name": "python",
   "nbconvert_exporter": "python",
   "pygments_lexer": "ipython2",
   "version": "2.7.12"
  }
 },
 "nbformat": 4,
 "nbformat_minor": 0
}
