{
 "cells": [
  {
   "cell_type": "code",
   "execution_count": 1,
   "metadata": {
    "collapsed": false
   },
   "outputs": [],
   "source": [
    "import pandas as pd\n",
    "import numpy as np\n",
    "import matplotlib.pyplot as plt"
   ]
  },
  {
   "cell_type": "code",
   "execution_count": 2,
   "metadata": {
    "collapsed": false
   },
   "outputs": [],
   "source": [
    "# Seleccionamos el csv\n",
    "raw_df = pd.read_csv('../Data/Transformacion/transformacion2.csv')"
   ]
  },
  {
   "cell_type": "code",
   "execution_count": 3,
   "metadata": {
    "collapsed": false
   },
   "outputs": [],
   "source": [
    "# Transformamos los datos de END_DATE a fecha\n",
    "raw_df.END_DATE = pd.to_datetime(raw_df.END_DATE)"
   ]
  },
  {
   "cell_type": "code",
   "execution_count": 4,
   "metadata": {
    "collapsed": false
   },
   "outputs": [],
   "source": [
    "# seleccionamos los años anteriores a 2015 para poder validar\n",
    "df = raw_df[raw_df.END_DATE < pd.to_datetime('2015', format=\"%Y\")]"
   ]
  },
  {
   "cell_type": "code",
   "execution_count": 5,
   "metadata": {
    "collapsed": false,
    "scrolled": true
   },
   "outputs": [],
   "source": [
    "# Imprimimos los episodios\n",
    "plt.scatter(df['LON'], df['LAT'])\n",
    "plt.show()"
   ]
  },
  {
   "cell_type": "code",
   "execution_count": 6,
   "metadata": {
    "collapsed": false
   },
   "outputs": [],
   "source": [
    "from sklearn.cluster import KMeans"
   ]
  },
  {
   "cell_type": "code",
   "execution_count": 7,
   "metadata": {
    "collapsed": false
   },
   "outputs": [],
   "source": [
    "# Hacemos un KMeans para obtener los clusters\n",
    "init = 'k-means++' \n",
    "iterations = 10 \n",
    "max_iter = 300 \n",
    "tol = 1e-04\n",
    "\n",
    "\n",
    "ks = []\n",
    "for k in range(1, 51):\n",
    "    km = KMeans(k, n_init = iterations, max_iter= max_iter, tol=tol, init=init)\n",
    "    labels = km.fit_predict(df[['LON', 'LAT']])\n",
    "    ks.append(km.inertia_)\n",
    "\n",
    "plt.plot(ks)\n",
    "plt.show()"
   ]
  },
  {
   "cell_type": "code",
   "execution_count": 8,
   "metadata": {
    "collapsed": false
   },
   "outputs": [],
   "source": [
    "#Utilizamos el kmeans para hacer 15 zonas distinas\n",
    "k = 15\n",
    "\n",
    "km = KMeans(k, n_init = iterations, max_iter= max_iter, tol=tol, init=init)\n",
    "labels = km.fit_predict(df[['LON', 'LAT']])\n",
    "\n",
    "plt.scatter(df['LON'], df['LAT'], c = labels)\n",
    "plt.show()"
   ]
  },
  {
   "cell_type": "code",
   "execution_count": 9,
   "metadata": {
    "collapsed": false
   },
   "outputs": [
    {
     "name": "stderr",
     "output_type": "stream",
     "text": [
      "/home/pablo/anaconda2/lib/python2.7/site-packages/ipykernel/__main__.py:1: SettingWithCopyWarning: \n",
      "A value is trying to be set on a copy of a slice from a DataFrame.\n",
      "Try using .loc[row_indexer,col_indexer] = value instead\n",
      "\n",
      "See the caveats in the documentation: http://pandas.pydata.org/pandas-docs/stable/indexing.html#indexing-view-versus-copy\n",
      "  if __name__ == '__main__':\n"
     ]
    }
   ],
   "source": [
    "df['ZONA'] = labels\n",
    "df.to_csv('../Data/mineria/zonas.csv', index='EPISODE_ID')"
   ]
  },
  {
   "cell_type": "code",
   "execution_count": null,
   "metadata": {
    "collapsed": true
   },
   "outputs": [],
   "source": []
  }
 ],
 "metadata": {
  "anaconda-cloud": {},
  "kernelspec": {
   "display_name": "Python [Root]",
   "language": "python",
   "name": "Python [Root]"
  },
  "language_info": {
   "codemirror_mode": {
    "name": "ipython",
    "version": 2
   },
   "file_extension": ".py",
   "mimetype": "text/x-python",
   "name": "python",
   "nbconvert_exporter": "python",
   "pygments_lexer": "ipython2",
   "version": "2.7.12"
  }
 },
 "nbformat": 4,
 "nbformat_minor": 0
}
