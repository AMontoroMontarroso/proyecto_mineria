{
 "cells": [
  {
   "cell_type": "code",
   "execution_count": 6,
   "metadata": {
    "collapsed": true
   },
   "outputs": [],
   "source": [
    "import pandas as pd\n",
    "from sklearn import tree\n",
    "import StringIO\n",
    "import pydotplus\n",
    "import subprocess"
   ]
  },
  {
   "cell_type": "code",
   "execution_count": 7,
   "metadata": {
    "collapsed": true
   },
   "outputs": [],
   "source": [
    "df = pd.read_csv('../Data/mineria/tormentas_riesgo.csv')"
   ]
  },
  {
   "cell_type": "code",
   "execution_count": 11,
   "metadata": {
    "collapsed": false
   },
   "outputs": [
    {
     "name": "stdout",
     "output_type": "stream",
     "text": [
      "Otro error :)\n",
      "Otro error :)\n",
      "Otro error :)\n",
      "Otro error :)\n",
      "Otro error :)\n",
      "Otro error :)\n",
      "Otro error :)\n",
      "Otro error :)\n",
      "Otro error :)\n",
      "Otro error :)\n",
      "Otro error :)\n",
      "Otro error :)\n",
      "Otro error :)\n",
      "Otro error :)\n",
      "Otro error :)\n"
     ]
    }
   ],
   "source": [
    "#Hacemos los arboles de decision para cada zona. Podamos cuando haya\n",
    "# una pureza mayor de 0.1. Indice de Gini < 0.1\n",
    "clf = tree.DecisionTreeClassifier(min_impurity_split = 0.1)\n",
    "features = ['GRANIZO', 'NIEVE', 'LLUVIA', 'T. ELECTRICA', 'TORNADO', 'VIENTO']\n",
    "dot_data = StringIO.StringIO()\n",
    "target_names = ['si', 'no']\n",
    "\n",
    "for zona in range(0, 15):\n",
    "    try:\n",
    "        tree.export_graphviz(clf, \n",
    "                             out_file = dot_data,\n",
    "                             feature_names = features,\n",
    "                             class_names = target_names,\n",
    "                             filled = True,\n",
    "                             rounded = True,\n",
    "                             special_characters = True)\n",
    "\n",
    "        graph = pydotplus.graph_from_dot_data(dot_data.getvalue())\n",
    "        graph.write_pdf(path = 'zona%d.pdf' % zona)\n",
    "        \n",
    "    except ValueError:\n",
    "        print('Todos son de la misma clase')"
   ]
  },
  {
   "cell_type": "code",
   "execution_count": null,
   "metadata": {
    "collapsed": true
   },
   "outputs": [],
   "source": []
  }
 ],
 "metadata": {
  "kernelspec": {
   "display_name": "Python [Root]",
   "language": "python",
   "name": "Python [Root]"
  },
  "language_info": {
   "codemirror_mode": {
    "name": "ipython",
    "version": 2
   },
   "file_extension": ".py",
   "mimetype": "text/x-python",
   "name": "python",
   "nbconvert_exporter": "python",
   "pygments_lexer": "ipython2",
   "version": "2.7.12"
  }
 },
 "nbformat": 4,
 "nbformat_minor": 0
}
