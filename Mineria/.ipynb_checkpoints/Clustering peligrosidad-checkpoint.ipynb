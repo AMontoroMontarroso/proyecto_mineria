{
 "cells": [
  {
   "cell_type": "code",
   "execution_count": 1,
   "metadata": {
    "collapsed": true
   },
   "outputs": [],
   "source": [
    "import pandas as pd\n",
    "import matplotlib.pyplot as plt"
   ]
  },
  {
   "cell_type": "code",
   "execution_count": 2,
   "metadata": {
    "collapsed": false
   },
   "outputs": [],
   "source": [
    "df = pd.read_csv('../Data/mineria/resultado_jerarquico.csv')\n",
    "df = df.set_index('EPISODE_ID')"
   ]
  },
  {
   "cell_type": "code",
   "execution_count": 3,
   "metadata": {
    "collapsed": false
   },
   "outputs": [],
   "source": [
    "#Sacamos los valores de peligrosidad diferentes que hay en nuestra tabla\n",
    "# Pintamos estos valoes ordenados y vemos que podriamos considerar que a partir de un 0.08 se puede considerar alto\n",
    "# porque es a partir de la peligrosidad en la que empieza a aumentar el nivel de la curva\n",
    "plt.plot(sorted(df['PELIGROSIDAD'].unique()))\n",
    "plt.show()"
   ]
  },
  {
   "cell_type": "code",
   "execution_count": 4,
   "metadata": {
    "collapsed": false
   },
   "outputs": [],
   "source": [
    "#Indicamos en la columna riesgo si hay o no\n",
    "df['RIESGO'] = 'no'\n",
    "df.ix[df['PELIGROSIDAD'] > 0.08, 'RIESGO'] = 'si'"
   ]
  },
  {
   "cell_type": "code",
   "execution_count": 5,
   "metadata": {
    "collapsed": false
   },
   "outputs": [],
   "source": [
    "#Limpiamos la tabla para aplicarle el CART. La columna riesgo es lo que queremos predecir"
   ]
  },
  {
   "cell_type": "code",
   "execution_count": 6,
   "metadata": {
    "collapsed": false
   },
   "outputs": [],
   "source": [
    "df = df.drop(['BEGIN_DATE', 'END_DATE', 'PELIGROSIDAD'], axis=1)"
   ]
  },
  {
   "cell_type": "code",
   "execution_count": 7,
   "metadata": {
    "collapsed": false
   },
   "outputs": [
    {
     "name": "stdout",
     "output_type": "stream",
     "text": [
      "Tormentas con riesgo: 296\n",
      "Tormentas sin riesgo: 1407\n"
     ]
    }
   ],
   "source": [
    "print 'Tormentas con riesgo: ' + str(df[df.RIESGO == 'si'].shape[0])\n",
    "print 'Tormentas sin riesgo: ' + str(df[df.RIESGO == 'no'].shape[0])"
   ]
  },
  {
   "cell_type": "code",
   "execution_count": 8,
   "metadata": {
    "collapsed": true
   },
   "outputs": [],
   "source": [
    "df.to_csv('../Data/mineria/tormentas_riesgo.csv')"
   ]
  }
 ],
 "metadata": {
  "kernelspec": {
   "display_name": "Python [Root]",
   "language": "python",
   "name": "Python [Root]"
  },
  "language_info": {
   "codemirror_mode": {
    "name": "ipython",
    "version": 2
   },
   "file_extension": ".py",
   "mimetype": "text/x-python",
   "name": "python",
   "nbconvert_exporter": "python",
   "pygments_lexer": "ipython2",
   "version": "2.7.12"
  }
 },
 "nbformat": 4,
 "nbformat_minor": 0
}
