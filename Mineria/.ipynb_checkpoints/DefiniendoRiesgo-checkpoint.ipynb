{
 "cells": [
  {
   "cell_type": "code",
   "execution_count": 1,
   "metadata": {
    "collapsed": true
   },
   "outputs": [],
   "source": [
    "import pandas as pd\n",
    "import matplotlib.pyplot as plt\n",
    "from sklearn.preprocessing import MinMaxScaler\n",
    "import numpy as np"
   ]
  },
  {
   "cell_type": "code",
   "execution_count": 2,
   "metadata": {
    "collapsed": false
   },
   "outputs": [],
   "source": [
    "df = pd.read_csv('../Data/mineria/resultado_jerarquico.csv')\n",
    "df = df.set_index('EPISODE_ID')\n",
    "df['RIESGO'] = 'no'"
   ]
  },
  {
   "cell_type": "code",
   "execution_count": 3,
   "metadata": {
    "collapsed": false
   },
   "outputs": [],
   "source": [
    "#Añadimos la columna riesgo que indicara si la tormenta presenta un riesgo de cara a trafico.\n",
    "# El valor será si en caso de que la peligrosidad seea mayor que la media de peligrsidades de todas las tormentas\n",
    "# de una zona. En caso contrario sea no. Así utilizando la media se regula la peligrosidad por cada zona-\n",
    "for zona in range(15):\n",
    "    df_zona = df[df['ZONA'] == zona]\n",
    "    peligros = df_zona['PELIGROSIDAD'].unique()\n",
    "    if len(peligros) > 0:\n",
    "        df.ix[df['PELIGROSIDAD'] > np.average(peligros), 'RIESGO'] = 'si'"
   ]
  },
  {
   "cell_type": "code",
   "execution_count": 4,
   "metadata": {
    "collapsed": false
   },
   "outputs": [],
   "source": [
    "#Limpiamos la tabla para aplicarle el CART. La columna riesgo es lo que queremos predecir\n",
    "df = df.drop(['BEGIN_DATE', 'END_DATE', 'PELIGROSIDAD'], axis=1)"
   ]
  },
  {
   "cell_type": "code",
   "execution_count": 5,
   "metadata": {
    "collapsed": true
   },
   "outputs": [],
   "source": [
    "df.to_csv('../Data/mineria/tormentas_riesgo.csv')"
   ]
  }
 ],
 "metadata": {
  "kernelspec": {
   "display_name": "Python [Root]",
   "language": "python",
   "name": "Python [Root]"
  },
  "language_info": {
   "codemirror_mode": {
    "name": "ipython",
    "version": 2
   },
   "file_extension": ".py",
   "mimetype": "text/x-python",
   "name": "python",
   "nbconvert_exporter": "python",
   "pygments_lexer": "ipython2",
   "version": "2.7.12"
  }
 },
 "nbformat": 4,
 "nbformat_minor": 0
}
