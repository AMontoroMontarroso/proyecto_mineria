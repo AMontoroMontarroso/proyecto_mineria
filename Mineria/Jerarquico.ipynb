{
 "cells": [
  {
   "cell_type": "code",
   "execution_count": 2,
   "metadata": {
    "collapsed": true
   },
   "outputs": [],
   "source": [
    "import pandas as pd\n",
    "import numpy as np\n",
    "import matplotlib.pyplot as plt\n",
    "import sklearn.neighbors\n",
    "from scipy import cluster\n",
    "from sklearn.decomposition import PCA\n",
    "from sklearn.preprocessing import MinMaxScaler"
   ]
  },
  {
   "cell_type": "code",
   "execution_count": 3,
   "metadata": {
    "collapsed": false
   },
   "outputs": [],
   "source": [
    "#Leemos y preparamos el dataframe principal(df)\n",
    "df = pd.read_csv('../Data/mineria/zonas.csv')\n",
    "df = df.drop(['Unnamed: 0', 'Unnamed: 0.1'], axis=1)\n",
    "df = df.set_index('EPISODE_ID')\n",
    "\n",
    "#Clase sera el atributo referente a la clase de la tormenta en su zona\n",
    "df['CLASE'] = 0\n",
    "\n",
    "#Peligrosidad sera la media de los accidentes provocados por las tormentas de una clase de una zona\n",
    "df['PELIGROSIDAD'] = 0"
   ]
  },
  {
   "cell_type": "code",
   "execution_count": 4,
   "metadata": {
    "collapsed": true
   },
   "outputs": [],
   "source": [
    "#Normalizador\n",
    "min_max_scaler = MinMaxScaler()\n",
    "#Reductor de dimensionalidad\n",
    "pca_estimator = PCA(n_components=2)\n",
    "#Distancia utilizada para medir la similitud entre tormentas\n",
    "dist = sklearn.neighbors.DistanceMetric.get_metric('manhattan')"
   ]
  },
  {
   "cell_type": "code",
   "execution_count": 5,
   "metadata": {
    "collapsed": false
   },
   "outputs": [
    {
     "data": {
      "text/plain": [
       "'\\nTAREA: ir rellenando la lista cuts y la lista methods con los cortes que se vean mejores\\n'"
      ]
     },
     "execution_count": 5,
     "metadata": {},
     "output_type": "execute_result"
    }
   ],
   "source": [
    "\"\"\"\n",
    "TAREA: ir rellenando la lista cuts y la lista methods con los cortes que se vean mejores\n",
    "\n",
    "NOTA: para no perderte en el bucle con las imagenes en el titulo pone la zona a la que se refiere el grafico\n",
    "\"\"\""
   ]
  },
  {
   "cell_type": "code",
   "execution_count": null,
   "metadata": {
    "collapsed": false
   },
   "outputs": [],
   "source": [
    "#OJO!!! La primera posicion no se utiliza porque no hay zona 1\n",
    "cuts =    [0, 8.55, 0, 0, 0, 0, 0, 0, 0, 0, 0, 0, 0, 0, 0, 0]\n",
    "methods = ['average', 'average', 'average', 'average', 'average', 'average', 'average', 'average'\n",
    "           'average', 'average', 'average', 'average', 'average', 'average', 'average', 'average']\n",
    "\n",
    "for zona in range(1, 16):\n",
    "    df_zona = df[df['ZONA'] == zona]\n",
    "    df_tormentas = df_zona[['GRANIZO', 'LLUVIA', 'NIEVE', 'T. ELECTRICA', 'TORNADO', 'VIENTO', 'DURACION']]\n",
    "    norm_tormentas = min_max_scaler.fit_transform(df_tormentas)\n",
    "\n",
    "    #Reducimos la dimensionalidad para poder pintarlo\n",
    "    X_tormentas = pca_estimator.fit_transform(norm_tormentas)\n",
    "    plt.scatter(X_tormentas[:,0], X_tormentas[:,1])\n",
    "    plt.title('Zona: ' + str(zona))\n",
    "    plt.show()\n",
    "\n",
    "    #Buscamos el mejor corte en base a su representacion grafica\n",
    "    cut = cuts[zona]\n",
    "    matsim = dist.pairwise(norm_tormentas)\n",
    "    clusters = cluster.hierarchy.linkage(matsim, method=methods[zona])\n",
    "    cluster.hierarchy.dendrogram(clusters, color_threshold=cut)\n",
    "    plt.title('Zona: ' + str(zona))\n",
    "    plt.show()\n",
    "\n",
    "    # Observamos el resultado del corte, si nos parece bueno lo dejamos, sino continuamos buscando otro mejor\n",
    "    # No hacer mas de 5 o 6 clusters por zona\n",
    "    labels = cluster.hierarchy.fcluster(clusters, cut, criterion='distance')\n",
    "    plt.scatter(X_tormentas[:,0], X_tormentas[:,1], c=labels)\n",
    "    plt.title('Zona: ' + str(zona))\n",
    "    plt.show()\n",
    "\n",
    "    #Añadimos la clase de cada tormenta al dataframe principal\n",
    "    df.ix[df.ZONA == zona, 'CLASE'] = labels\n",
    "\n",
    "    #Añadimos la peligrosidad de cada tormenta al dataframe principal\n",
    "    for label in set(labels):\n",
    "        condition = (df['ZONA'] == zona) & (df['CLASE'] == label)\n",
    "        df.ix[condition, 'PELIGROSIDAD'] = df[condition]['ACCIDENTES'].mean()"
   ]
  },
  {
   "cell_type": "code",
   "execution_count": null,
   "metadata": {
    "collapsed": true
   },
   "outputs": [],
   "source": [
    "# Guardamos el resultado\n",
    "df.to_csv('../Data/mineria/resultado_jerarquico')"
   ]
  }
 ],
 "metadata": {
  "anaconda-cloud": {},
  "kernelspec": {
   "display_name": "Python [Root]",
   "language": "python",
   "name": "Python [Root]"
  },
  "language_info": {
   "codemirror_mode": {
    "name": "ipython",
    "version": 2
   },
   "file_extension": ".py",
   "mimetype": "text/x-python",
   "name": "python",
   "nbconvert_exporter": "python",
   "pygments_lexer": "ipython2",
   "version": "2.7.12"
  }
 },
 "nbformat": 4,
 "nbformat_minor": 1
}
