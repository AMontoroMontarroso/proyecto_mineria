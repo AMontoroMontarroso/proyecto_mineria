{
 "cells": [
  {
   "cell_type": "code",
   "execution_count": 1,
   "metadata": {
    "collapsed": true
   },
   "outputs": [],
   "source": [
    "# coding: utf-8\n",
    "\n",
    "\"\"\"\n",
    "Crea una tabla con todos los csvs que se encuentran en ./storms, selecciona solo las del estado y las caracteristicas indicadas en las variables 'estado' y 'dtypes'. Elimina aquellas que no tienen la posicion en la que ocurre la tormenta y pone las fechas en un formato adecuado. Finalmente vuelva el resultado en un archivo .csv\n",
    "\"\"\"\n",
    "\n",
    "import pandas as pd\n",
    "import numpy as np\n",
    "from functools import partial\n",
    "from os import listdir"
   ]
  },
  {
   "cell_type": "code",
   "execution_count": 2,
   "metadata": {
    "collapsed": false
   },
   "outputs": [
    {
     "name": "stderr",
     "output_type": "stream",
     "text": [
      "/home/neverhope/anaconda2/lib/python2.7/site-packages/IPython/core/interactiveshell.py:2717: DtypeWarning: Columns (29,34,35,37) have mixed types. Specify dtype option on import or set low_memory=False.\n",
      "  interactivity=interactivity, compiler=compiler, result=result)\n",
      "/home/neverhope/anaconda2/lib/python2.7/site-packages/IPython/core/interactiveshell.py:2717: DtypeWarning: Columns (28) have mixed types. Specify dtype option on import or set low_memory=False.\n",
      "  interactivity=interactivity, compiler=compiler, result=result)\n"
     ]
    }
   ],
   "source": [
    "#Seleccionamos los eventos producidos en Indiana y juntamos todo en un dataframe. Tambien juntamos todos\n",
    "#los elementos de locations en un solo dataframe para despues seleccionar solo aquellos eventos que esten en\n",
    "#los seleccionados de details para Indiana.\n",
    "estado = 'INDIANA'\n",
    "\n",
    "dfs = []\n",
    "for csv in listdir('../Data/Iniciales/storms/details/'):\n",
    "    df = pd.read_csv('../Data/Iniciales/storms/details/' + csv)\n",
    "    df.set_index('EVENT_ID')\n",
    "    dfs.append(df)\n",
    "details_df = pd.concat(dfs)\n",
    "\n",
    "dfs = []\n",
    "for csv in listdir('../Data/Iniciales/storms/locations'):\n",
    "    df = pd.read_csv('../Data/Iniciales/storms/locations/' + csv)\n",
    "    dfs.append(df)\n",
    "\n",
    "locations_df = pd.concat(dfs)\n",
    "\n",
    "details_df = details_df[details_df['STATE'] == 'INDIANA']\n",
    "\n",
    "details_df = details_df.drop(['BEGIN_YEARMONTH', 'BEGIN_DAY', 'BEGIN_TIME', 'END_YEARMONTH', 'END_DAY', 'END_TIME', \n",
    "                 'STATE_FIPS', 'YEAR', 'MONTH_NAME', 'CZ_TYPE', 'CZ_FIPS','CZ_NAME', 'WFO', 'CZ_TIMEZONE',\n",
    "                 'SOURCE', 'MAGNITUDE_TYPE', 'FLOOD_CAUSE', 'TOR_F_SCALE', 'TOR_LENGTH', 'TOR_WIDTH', \n",
    "                 'TOR_OTHER_WFO', 'TOR_OTHER_CZ_STATE', 'TOR_OTHER_CZ_FIPS', 'TOR_OTHER_CZ_NAME',\n",
    "                 'BEGIN_RANGE', 'BEGIN_AZIMUTH', 'BEGIN_LOCATION', 'END_RANGE', 'END_AZIMUTH', 'EPISODE_NARRATIVE',\n",
    "                 'DATA_SOURCE', 'EVENT_NARRATIVE', 'END_LOCATION',\n",
    "                 'CATEGORY', 'STATE'], 1)"
   ]
  },
  {
   "cell_type": "code",
   "execution_count": 3,
   "metadata": {
    "collapsed": false
   },
   "outputs": [],
   "source": [
    "details_df = details_df.set_index('EVENT_ID')\n",
    "details_df.to_csv('../Data/Seleccion/details.csv')"
   ]
  },
  {
   "cell_type": "code",
   "execution_count": 4,
   "metadata": {
    "collapsed": false
   },
   "outputs": [],
   "source": [
    "#Borramos las caracteristicas que no son interesantes o que son redundantes porque ya aparecen en details\n",
    "locations_df = locations_df.drop(['AZIMUTH', 'LOCATION', 'YEARMONTH', 'LOCATION_INDEX'], 1)"
   ]
  },
  {
   "cell_type": "code",
   "execution_count": 6,
   "metadata": {
    "collapsed": false
   },
   "outputs": [],
   "source": [
    "# Seleccionamos solo aquellos elementos cuyo episodio_id corresponde a una tormenta producida en Indiana\n",
    "event_ids = details_df.EPISODE_ID.unique()\n",
    "locations_df = locations_df[locations_df.EPISODE_ID.isin(event_ids)]"
   ]
  },
  {
   "cell_type": "code",
   "execution_count": 7,
   "metadata": {
    "collapsed": true
   },
   "outputs": [],
   "source": [
    "locations_df.to_csv('../Data/Seleccion/locations.csv')"
   ]
  },
  {
   "cell_type": "code",
   "execution_count": null,
   "metadata": {
    "collapsed": true
   },
   "outputs": [],
   "source": []
  }
 ],
 "metadata": {
  "anaconda-cloud": {},
  "kernelspec": {
   "display_name": "Python [conda root]",
   "language": "python",
   "name": "conda-root-py"
  },
  "language_info": {
   "codemirror_mode": {
    "name": "ipython",
    "version": 2
   },
   "file_extension": ".py",
   "mimetype": "text/x-python",
   "name": "python",
   "nbconvert_exporter": "python",
   "pygments_lexer": "ipython2",
   "version": "2.7.12"
  }
 },
 "nbformat": 4,
 "nbformat_minor": 0
}
