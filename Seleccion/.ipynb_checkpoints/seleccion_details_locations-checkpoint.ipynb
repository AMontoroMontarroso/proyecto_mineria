{
 "cells": [
  {
   "cell_type": "code",
   "execution_count": 9,
   "metadata": {
    "collapsed": true
   },
   "outputs": [],
   "source": [
    "# coding: utf-8\n",
    "\n",
    "\"\"\"\n",
    "Crea una tabla con todos los csvs que se encuentran en ./storms, selecciona solo las del estado y las caracteristicas indicadas en las variables 'estado' y 'dtypes'. Elimina aquellas que no tienen la posicion en la que ocurre la tormenta y pone las fechas en un formato adecuado. Finalmente vuelva el resultado en un archivo .csv\n",
    "\"\"\"\n",
    "\n",
    "import pandas as pd\n",
    "import numpy as np\n",
    "from functools import partial\n",
    "from os import listdir"
   ]
  },
  {
   "cell_type": "code",
   "execution_count": 10,
   "metadata": {
    "collapsed": false
   },
   "outputs": [],
   "source": [
    "#Seleccionamos los eventos producidos en Indiana y juntamos todo en un dataframe. Tambien juntamos todos\n",
    "#los elementos de locations y lo\n",
    "estado = 'INDIANA'\n",
    "\n",
    "dfs = []\n",
    "for csv in listdir('../Data/storms/details'):\n",
    "    df = pd.read_csv('../Data/storms/details/' + csv)\n",
    "    df.set_index('EVENT_ID')\n",
    "    dfs.append(df)\n",
    "details_df = pd.concat(dfs)\n",
    "\n",
    "dfs = []\n",
    "for csv in listdir('../Data/storms/locations'):\n",
    "    df = pd.read_csv('../Data/storms/locations/' + csv)\n",
    "    dfs.append(df)\n",
    "\n",
    "locations_df = pd.concat(dfs)\n",
    "\n",
    "details_df = details_df[details_df['STATE'] == 'INDIANA']\n",
    "\n",
    "details_df = details_df.drop(['BEGIN_YEARMONTH', 'BEGIN_DAY', 'BEGIN_TIME', 'END_YEARMONTH', 'END_DAY', 'END_TIME', \n",
    "                 'STATE_FIPS', 'YEAR', 'MONTH_NAME', 'CZ_TYPE', 'CZ_FIPS','CZ_NAME', 'WFO', 'CZ_TIMEZONE',\n",
    "                 'SOURCE', 'MAGNITUDE_TYPE', 'FLOOD_CAUSE', 'TOR_F_SCALE', 'TOR_LENGTH', 'TOR_WIDTH', \n",
    "                 'TOR_OTHER_WFO', 'TOR_OTHER_CZ_STATE', 'TOR_OTHER_CZ_FIPS', 'TOR_OTHER_CZ_NAME',\n",
    "                 'BEGIN_RANGE', 'BEGIN_AZIMUTH', 'BEGIN_LOCATION', 'END_RANGE', 'END_AZIMUTH', 'EPISODE_NARRATIVE',\n",
    "                 'DATA_SOURCE', 'EVENT_NARRATIVE', 'BEGIN_LAT', 'BEGIN_LON', 'END_LAT', 'END_LON', 'END_LOCATION',\n",
    "                 'CATEGORY', 'STATE'], 1)"
   ]
  },
  {
   "cell_type": "code",
   "execution_count": 15,
   "metadata": {
    "collapsed": false
   },
   "outputs": [],
   "source": [
    "details_df = details_df.set_index('EVENT_ID')\n",
    "details_df.to_csv('../Data/Seleccion/details.csv')"
   ]
  },
  {
   "cell_type": "code",
   "execution_count": 1,
   "metadata": {
    "collapsed": false
   },
   "outputs": [
    {
     "ename": "NameError",
     "evalue": "name 'locations_df' is not defined",
     "output_type": "error",
     "traceback": [
      "\u001b[1;31m---------------------------------------------------------------------------\u001b[0m",
      "\u001b[1;31mNameError\u001b[0m                                 Traceback (most recent call last)",
      "\u001b[1;32m<ipython-input-1-8636dd4fc0e8>\u001b[0m in \u001b[0;36m<module>\u001b[1;34m()\u001b[0m\n\u001b[1;32m----> 1\u001b[1;33m \u001b[0mlocations_df\u001b[0m \u001b[1;33m=\u001b[0m \u001b[0mlocations_df\u001b[0m\u001b[1;33m.\u001b[0m\u001b[0mdrop\u001b[0m\u001b[1;33m(\u001b[0m\u001b[1;33m[\u001b[0m\u001b[1;34m'AZIMUTH'\u001b[0m\u001b[1;33m,\u001b[0m \u001b[1;34m'LOCATION'\u001b[0m\u001b[1;33m,\u001b[0m \u001b[1;34m'YEARMONTH'\u001b[0m\u001b[1;33m,\u001b[0m \u001b[1;34m'LOCATION_INDEX'\u001b[0m\u001b[1;33m]\u001b[0m\u001b[1;33m,\u001b[0m \u001b[1;36m1\u001b[0m\u001b[1;33m)\u001b[0m\u001b[1;33m\u001b[0m\u001b[0m\n\u001b[0m",
      "\u001b[1;31mNameError\u001b[0m: name 'locations_df' is not defined"
     ]
    }
   ],
   "source": [
    "locations_df = locations_df.drop(['AZIMUTH', 'LOCATION', 'YEARMONTH', 'LOCATION_INDEX'], 1)"
   ]
  },
  {
   "cell_type": "code",
   "execution_count": null,
   "metadata": {
    "collapsed": true
   },
   "outputs": [],
   "source": [
    "locations_df.to_csv('../Data/Seleccion/locations.csv')"
   ]
  }
 ],
 "metadata": {
  "kernelspec": {
   "display_name": "Python [Root]",
   "language": "python",
   "name": "Python [Root]"
  },
  "language_info": {
   "codemirror_mode": {
    "name": "ipython",
    "version": 2
   },
   "file_extension": ".py",
   "mimetype": "text/x-python",
   "name": "python",
   "nbconvert_exporter": "python",
   "pygments_lexer": "ipython2",
   "version": "2.7.12"
  }
 },
 "nbformat": 4,
 "nbformat_minor": 0
}
