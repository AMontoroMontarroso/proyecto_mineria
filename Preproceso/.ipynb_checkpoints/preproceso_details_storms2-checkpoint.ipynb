{
 "cells": [
  {
   "cell_type": "code",
   "execution_count": 1,
   "metadata": {
    "collapsed": true
   },
   "outputs": [],
   "source": [
    "import csv\n",
    "import numpy as np"
   ]
  },
  {
   "cell_type": "code",
   "execution_count": 2,
   "metadata": {
    "collapsed": false
   },
   "outputs": [
    {
     "name": "stdout",
     "output_type": "stream",
     "text": [
      "238\n"
     ]
    },
    {
     "name": "stderr",
     "output_type": "stream",
     "text": [
      "/home/pablo/anaconda2/lib/python2.7/site-packages/numpy/core/_methods.py:59: RuntimeWarning: Mean of empty slice.\n",
      "  warnings.warn(\"Mean of empty slice.\", RuntimeWarning)\n",
      "/home/pablo/anaconda2/lib/python2.7/site-packages/numpy/core/_methods.py:70: RuntimeWarning: invalid value encountered in double_scalars\n",
      "  ret = ret.dtype.type(ret / rcount)\n"
     ]
    }
   ],
   "source": [
    "f = open('../Data/Preproceso/details.csv')\n",
    "csv_file = csv.reader(f)\n",
    "cabeceras = csv_file.next()\n",
    "\n",
    "episodios = dict()\n",
    "\n",
    "for row in csv_file:\n",
    "    episodio = dict(zip(cabeceras, row))\n",
    "    if row[1] in episodios:\n",
    "        episodios[row[1]].append(episodio)\n",
    "    else:\n",
    "        episodios[row[1]] = [episodio]\n",
    "\n",
    "n_eventos_salvados = 0\n",
    "\n",
    "for episodio_id in episodios:\n",
    "    episodio = episodios[episodio_id]\n",
    "    latitudes_ini, longitudes_ini = [], []\n",
    "    latitudes_fin, longitudes_fin = [], []\n",
    "    \n",
    "    for evento in episodio:\n",
    "        if evento['BEGIN_LAT'] != '':\n",
    "            latitudes_ini.append(float(evento['BEGIN_LAT']))\n",
    "            longitudes_ini.append(float(evento['BEGIN_LON']))\n",
    "            latitudes_fin.append(float(evento['END_LAT']))\n",
    "            longitudes_fin.append(float(evento['END_LON']))\n",
    "            \n",
    "    media_lat_ini = np.average(latitudes_ini)\n",
    "    media_lon_ini = np.average(longitudes_ini)\n",
    "    media_lat_fin = np.average(latitudes_fin)\n",
    "    media_lon_fin = np.average(longitudes_fin)\n",
    "    \n",
    "    if latitudes_ini:\n",
    "        for evento in episodio:\n",
    "            if evento['BEGIN_LAT'] == '':\n",
    "                evento['BEGIN_LAT'] = media_lat_ini\n",
    "                evento['BEGIN_LON'] = media_lon_ini\n",
    "                evento['END_LAT'] = media_lat_fin\n",
    "                evento['END_LON'] = media_lon_fin\n",
    "                n_eventos_salvados += 1\n",
    "            \n",
    "print n_eventos_salvados"
   ]
  },
  {
   "cell_type": "code",
   "execution_count": 3,
   "metadata": {
    "collapsed": true
   },
   "outputs": [],
   "source": [
    "fl = open('../Data/Preproceso/locations.csv')\n",
    "csv_l = csv.reader(fl)\n",
    "cabeceras_l = csv_l.next()[1:]"
   ]
  },
  {
   "cell_type": "code",
   "execution_count": 4,
   "metadata": {
    "collapsed": false
   },
   "outputs": [
    {
     "data": {
      "text/plain": [
       "['EVENT_ID', 'EPISODE_ID', 'RANGE', 'LAT1', 'LON1']"
      ]
     },
     "execution_count": 4,
     "metadata": {},
     "output_type": "execute_result"
    }
   ],
   "source": [
    "cabeceras_l"
   ]
  },
  {
   "cell_type": "code",
   "execution_count": 5,
   "metadata": {
    "collapsed": true
   },
   "outputs": [],
   "source": [
    "episodios_l = dict()\n",
    "\n",
    "for row in csv_l:\n",
    "    episodio = dict(zip(cabeceras_l[1:], row[1:]))\n",
    "    if row[2] in episodios_l:\n",
    "        episodios_l[row[2]].append(episodio)\n",
    "    else:\n",
    "        episodios_l[row[2]] = [episodio]"
   ]
  },
  {
   "cell_type": "code",
   "execution_count": 6,
   "metadata": {
    "collapsed": false
   },
   "outputs": [],
   "source": [
    "for episodio_l_id in episodios_l:\n",
    "    episodio_l = episodios_l[episodio_l_id]\n",
    "    \n",
    "    latitudes_ini, longitudes_ini = [], []\n",
    "    for evento in episodio_l:\n",
    "        latitudes_ini.append(float(evento['LAT1']))\n",
    "        longitudes_ini.append(float(evento['LON1']))\n",
    "        \n",
    "    media_lat = np.average(latitudes_ini)\n",
    "    media_lon = np.average(longitudes_ini)\n",
    "    \n",
    "    if episodio_l_id in episodios:\n",
    "        episodio_d = episodios[episodio_l_id]\n",
    "        for evento in episodio_d:\n",
    "            if evento['BEGIN_LAT'] == '':\n",
    "                evento['BEGIN_LAT'] = media_lat\n",
    "                evento['BEGIN_LON'] = media_lon\n",
    "                evento['END_LAT'] = media_lat\n",
    "                evento['END_LON'] = media_lon"
   ]
  },
  {
   "cell_type": "code",
   "execution_count": 7,
   "metadata": {
    "collapsed": false
   },
   "outputs": [
    {
     "name": "stdout",
     "output_type": "stream",
     "text": [
      "1904\n"
     ]
    }
   ],
   "source": [
    "eps = 0\n",
    "for episodio in episodios:\n",
    "    if episodios[episodio][0]['BEGIN_LAT'] != '':\n",
    "        eps += 1\n",
    "\n",
    "print eps"
   ]
  },
  {
   "cell_type": "code",
   "execution_count": 8,
   "metadata": {
    "collapsed": true
   },
   "outputs": [],
   "source": [
    "import pandas as pd"
   ]
  },
  {
   "cell_type": "code",
   "execution_count": 9,
   "metadata": {
    "collapsed": false
   },
   "outputs": [],
   "source": [
    "lista = []\n",
    "for episodio_id in episodios:\n",
    "    for evento in episodios[episodio_id]:\n",
    "        if evento['BEGIN_LAT'] != '':\n",
    "            lista.append(evento)\n",
    "df = pd.DataFrame(lista)\n",
    "df = df.set_index('EVENT_ID')"
   ]
  },
  {
   "cell_type": "code",
   "execution_count": 10,
   "metadata": {
    "collapsed": false
   },
   "outputs": [],
   "source": [
    "df.to_csv('../Data/Preproceso/storms.csv')"
   ]
  },
  {
   "cell_type": "code",
   "execution_count": 11,
   "metadata": {
    "collapsed": false
   },
   "outputs": [],
   "source": [
    "import matplotlib.pyplot as plt"
   ]
  },
  {
   "cell_type": "code",
   "execution_count": 12,
   "metadata": {
    "collapsed": true
   },
   "outputs": [],
   "source": [
    "plt.scatter(df['BEGIN_LON'], df['BEGIN_LAT'])\n",
    "plt.show()"
   ]
  },
  {
   "cell_type": "code",
   "execution_count": 13,
   "metadata": {
    "collapsed": true
   },
   "outputs": [],
   "source": [
    "plt.scatter(df['END_LON'], df['END_LAT'])\n",
    "plt.show()"
   ]
  },
  {
   "cell_type": "code",
   "execution_count": null,
   "metadata": {
    "collapsed": true
   },
   "outputs": [],
   "source": []
  }
 ],
 "metadata": {
  "kernelspec": {
   "display_name": "Python [Root]",
   "language": "python",
   "name": "Python [Root]"
  },
  "language_info": {
   "codemirror_mode": {
    "name": "ipython",
    "version": 2
   },
   "file_extension": ".py",
   "mimetype": "text/x-python",
   "name": "python",
   "nbconvert_exporter": "python",
   "pygments_lexer": "ipython2",
   "version": "2.7.12"
  }
 },
 "nbformat": 4,
 "nbformat_minor": 0
}
