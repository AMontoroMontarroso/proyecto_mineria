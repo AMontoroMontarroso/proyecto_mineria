{
 "cells": [
  {
   "cell_type": "code",
   "execution_count": 25,
   "metadata": {
    "collapsed": true
   },
   "outputs": [],
   "source": [
    "import pandas as pd"
   ]
  },
  {
   "cell_type": "code",
   "execution_count": 26,
   "metadata": {
    "collapsed": false
   },
   "outputs": [],
   "source": [
    "details_df = pd.read_csv('../Data/Seleccion/details.csv')"
   ]
  },
  {
   "cell_type": "code",
   "execution_count": 27,
   "metadata": {
    "collapsed": false
   },
   "outputs": [],
   "source": [
    "details_df = details_df.set_index('EVENT_ID')"
   ]
  },
  {
   "cell_type": "code",
   "execution_count": 28,
   "metadata": {
    "collapsed": false
   },
   "outputs": [
    {
     "data": {
      "text/plain": [
       "EPISODE_ID            True\n",
       "EVENT_TYPE           False\n",
       "BEGIN_DATE_TIME      False\n",
       "END_DATE_TIME        False\n",
       "INJURIES_DIRECT      False\n",
       "INJURIES_INDIRECT    False\n",
       "DEATHS_DIRECT        False\n",
       "DEATHS_INDIRECT      False\n",
       "DAMAGE_PROPERTY       True\n",
       "DAMAGE_CROPS          True\n",
       "MAGNITUDE             True\n",
       "BEGIN_LAT             True\n",
       "BEGIN_LON             True\n",
       "END_LAT               True\n",
       "END_LON               True\n",
       "dtype: bool"
      ]
     },
     "execution_count": 28,
     "metadata": {},
     "output_type": "execute_result"
    }
   ],
   "source": [
    "#Comprobamos que atributos tienen valores nulos\n",
    "details_df.isnull().any()"
   ]
  },
  {
   "cell_type": "code",
   "execution_count": 29,
   "metadata": {
    "collapsed": false
   },
   "outputs": [],
   "source": [
    "#Eliminamos aquellos eventos que no tengan asociado un episodio (tormenta)\n",
    "details_df = details_df[details_df.EPISODE_ID.notnull()]"
   ]
  },
  {
   "cell_type": "code",
   "execution_count": 30,
   "metadata": {
    "collapsed": false
   },
   "outputs": [],
   "source": [
    "#Convertimos los episodios a tipo entero\n",
    "details_df.loc[:, 'EPISODE_ID'] = details_df['EPISODE_ID'].apply(lambda x: int(x))"
   ]
  },
  {
   "cell_type": "code",
   "execution_count": 31,
   "metadata": {
    "collapsed": false
   },
   "outputs": [],
   "source": [
    "#Damos formato a las fechas\n",
    "details_df.loc[:, 'BEGIN_DATE_TIME'] = pd.to_datetime(details_df['BEGIN_DATE_TIME'])\n",
    "details_df.loc[:, 'END_DATE_TIME'] = pd.to_datetime(details_df['END_DATE_TIME'])"
   ]
  },
  {
   "cell_type": "code",
   "execution_count": 32,
   "metadata": {
    "collapsed": false,
    "scrolled": false
   },
   "outputs": [],
   "source": [
    "#Damos el valor por defecto de 0 al numero de muertes directas e indirectas, perdidas economicas generales y en cultivos,\n",
    "# heridos directos e indirectos\n",
    "details_df[['INJURIES_DIRECT', 'INJURIES_INDIRECT', 'DEATHS_DIRECT', 'DAMAGE_CROPS',\n",
    "            'DEATHS_INDIRECT', 'DAMAGE_PROPERTY', 'DAMAGE_CROPS']] = details_df[['INJURIES_DIRECT', 'INJURIES_INDIRECT', 'DEATHS_DIRECT', 'DAMAGE_CROPS',\n",
    "            'DEATHS_INDIRECT', 'DAMAGE_PROPERTY', 'DAMAGE_CROPS']].fillna('0')"
   ]
  },
  {
   "cell_type": "code",
   "execution_count": 33,
   "metadata": {
    "collapsed": false
   },
   "outputs": [],
   "source": [
    "#Convertismos las perdidas de propiedades y de cultivos en un numero entero transformando las distintas magnitudes\n",
    "# en una comun ($)\n",
    "def procesar_perdidas(x):\n",
    "    if x == '0' or x == 0:\n",
    "        return int(x)\n",
    "    else:\n",
    "        if x[-1] == 'K':\n",
    "            mult = 1e3\n",
    "        elif x[-1] == 'M':\n",
    "            mult = 1e6\n",
    "        else:\n",
    "            mult = 1\n",
    "        \n",
    "        return int(float(x[:-1]) * mult)"
   ]
  },
  {
   "cell_type": "code",
   "execution_count": 34,
   "metadata": {
    "collapsed": false
   },
   "outputs": [],
   "source": [
    "details_df['DAMAGE_PROPERTY'] = details_df['DAMAGE_PROPERTY'].apply(procesar_perdidas)"
   ]
  },
  {
   "cell_type": "code",
   "execution_count": 35,
   "metadata": {
    "collapsed": false
   },
   "outputs": [],
   "source": [
    "details_df['DAMAGE_CROPS'] = details_df['DAMAGE_CROPS'].apply(procesar_perdidas)"
   ]
  },
  {
   "cell_type": "code",
   "execution_count": 36,
   "metadata": {
    "collapsed": false
   },
   "outputs": [
    {
     "data": {
      "text/plain": [
       "array([        0,     10000,      1000,     15000,     75000,      2000,\n",
       "            5000,     20000,     25000,      8000,     17000,      9000,\n",
       "            3000,      1500,       250,      4000,       500,      7000,\n",
       "            6000,      1250,     12000,     21000,     18000,      7500,\n",
       "             200,     50000,     90000,     30000,    100000,    500000,\n",
       "           70000,   1000000,    147000,   1500000,    105000,     55000,\n",
       "           45000,     35000,     43000,     20500,     80000,     40000,\n",
       "          206000,    300000,    200000,    400000,     65000,     16000,\n",
       "          150000,    110000,    250000,    350000,       800,     28000,\n",
       "           60000,    750000,       100,    975000,      3500,       750,\n",
       "          125000,     12500,   3500000,    120000,      9500,     13000,\n",
       "            2500,     36000,      2250,     14000,    420000,   3000000,\n",
       "         2000000,   6000000,  15000000,   8000000,   5000000,     85000,\n",
       "             300,  10000000,    450000,  35000000,  25000000,     35200,\n",
       "         1300000,    175000,   1650000,   1100000,     38000,     31000,\n",
       "        19000000,   2500000,   1200000,    465000,     11000,      5500,\n",
       "            8500,   6500000,    425000,     13500,    936000,   1150000,\n",
       "           44000,     32000,  11000000,    180000,    600000,   4000000,\n",
       "           19000,     49000,    265000,   1800000,     68000,      2600,\n",
       "        12000000,    260000,   1250000,    160000,       600,    226000,\n",
       "        23000000,  29000000,  20000000,  80000000,  50000000, 100000000,\n",
       "        45000000, 150000000,  30000000,  90000000,     53000,   2900000,\n",
       "         2700000,    856000,   8100000,    684000,   3300000,   5800000,\n",
       "              10,    115000,     25500,    280000,    240000,       700,\n",
       "          825000,    190000,  11600000,     12900,  65000000,    275000,\n",
       "           48000,  55000000,      1750,       150,     63000,     83000,\n",
       "           62000,     33000,     84000,     34000,    800000,  40000000,\n",
       "         5100000,   7000000,  18000000,   4500000,  10600000,  31000000,\n",
       "            1300,       400])"
      ]
     },
     "execution_count": 36,
     "metadata": {},
     "output_type": "execute_result"
    }
   ],
   "source": [
    "# Observamos que los valores de las perdidas en muchos casos es la misma, lo cual indica que se introdujeron\n",
    "# de forma poco precisa\n",
    "details_df['DAMAGE_PROPERTY'].unique()"
   ]
  },
  {
   "cell_type": "code",
   "execution_count": 37,
   "metadata": {
    "collapsed": false
   },
   "outputs": [
    {
     "data": {
      "text/plain": [
       "array([        0,     50000,     30000,     20000,     10000,       250,\n",
       "            1000,       500,      3000,      5000,      2000,       100,\n",
       "             200,   2000000,      6000,     25000,       300,       750,\n",
       "            8000,      7000,      2500,     12000,      4000,    300000,\n",
       "          200000,     40000,   3030000,    620000,    100000,   1000000,\n",
       "            1500,     75000,    400000,    250000,     15000,  10000000,\n",
       "          500000,  60000000,  30000000, 100000000,  45000000, 150000000,\n",
       "        50000000,  90000000,  15000000,   5000000,   4000000,  70000000,\n",
       "         8000000,   7000000,   3000000,   6000000])"
      ]
     },
     "execution_count": 37,
     "metadata": {},
     "output_type": "execute_result"
    }
   ],
   "source": [
    "# Lo mismo ocurre con las perdidas economicas en cultibos\n",
    "details_df.DAMAGE_CROPS.unique()"
   ]
  },
  {
   "cell_type": "code",
   "execution_count": 38,
   "metadata": {
    "collapsed": false
   },
   "outputs": [],
   "source": [
    "# Quitamos los nulos de las magnitudes y los ponemos a 0\n",
    "details_df['MAGNITUDE'] = details_df['MAGNITUDE'].fillna(0)"
   ]
  },
  {
   "cell_type": "code",
   "execution_count": 39,
   "metadata": {
    "collapsed": false
   },
   "outputs": [],
   "source": [
    "# Pasamos a preprocesar las posiciones iniciales y finales\n",
    "import matplotlib.pyplot as plt\n",
    "\n",
    "plt.scatter(details_df.BEGIN_LAT, details_df.BEGIN_LON)\n",
    "plt.show()\n",
    "\n",
    "plt.scatter(details_df.END_LAT, details_df.END_LON)\n",
    "plt.show()\n",
    "\n",
    "#Observamos que estan correctamente introducidos los que hay"
   ]
  },
  {
   "cell_type": "code",
   "execution_count": 48,
   "metadata": {
    "collapsed": false
   },
   "outputs": [
    {
     "data": {
      "text/plain": [
       "6964"
      ]
     },
     "execution_count": 48,
     "metadata": {},
     "output_type": "execute_result"
    }
   ],
   "source": [
    "#Hay demasiados nulos en todas las posiciones\n",
    "details_df['END_LON'].isnull().sum()"
   ]
  },
  {
   "cell_type": "code",
   "execution_count": 40,
   "metadata": {
    "collapsed": false
   },
   "outputs": [
    {
     "data": {
      "text/plain": [
       "'\\nMedidas a tomar:\\n\\n1. Establecer como valores INI_LON y INI_LAT los de locations.\\n2. Establecer como valores protipicos de INI_LON e INI_LAT:\\n        if hay algun evento en el mismo episodio con estos valores: la media de ellos\\n        else \\n            if ese evento tiene END_LON y END_LAT a\\xc3\\xb1adirlo\\n            elif algun evento de ese episodio tiene END_LON y END_LAT: la media de ellos\\n            else \\n                eliminarlo\\n\\n3. Establecer como valores END_LON y END_LAT los de details.csv\\n4. Establecer como valores protipicos de END_LON y END_LAT:\\n       if hay algun evento con el mismo episodio: la media de ellos\\n       else\\n           if ese evento tiene INI_LON y INI_LAT a\\xc3\\xb1adirlo\\n           elif algun evento tiene INI_LON y INI_LAT del mismo episodio: media de ellos\\n           else\\n               eliminarlo\\n'"
      ]
     },
     "execution_count": 40,
     "metadata": {},
     "output_type": "execute_result"
    }
   ],
   "source": [
    "\"\"\"\n",
    "Medidas a tomar:\n",
    "\n",
    "1. Establecer como valores INI_LON y INI_LAT los de locations.\n",
    "2. Establecer como valores protipicos de INI_LON e INI_LAT:\n",
    "        if hay algun evento en el mismo episodio con estos valores: la media de ellos\n",
    "        else \n",
    "            if ese evento tiene END_LON y END_LAT añadirlo\n",
    "            elif algun evento de ese episodio tiene END_LON y END_LAT: la media de ellos\n",
    "            else \n",
    "                eliminarlo\n",
    "\n",
    "3. Establecer como valores END_LON y END_LAT los de details.csv\n",
    "4. Establecer como valores protipicos de END_LON y END_LAT:\n",
    "       if hay algun evento con el mismo episodio: la media de ellos\n",
    "       else\n",
    "           if ese evento tiene INI_LON y INI_LAT añadirlo\n",
    "           elif algun evento tiene INI_LON y INI_LAT del mismo episodio: media de ellos\n",
    "           else\n",
    "               eliminarlo\n",
    "\"\"\""
   ]
  },
  {
   "cell_type": "code",
   "execution_count": 41,
   "metadata": {
    "collapsed": false
   },
   "outputs": [
    {
     "data": {
      "text/plain": [
       "5259"
      ]
     },
     "execution_count": 41,
     "metadata": {},
     "output_type": "execute_result"
    }
   ],
   "source": [
    "# Tenemos 5259 eventos que han provocado perdidas economicas de caracter general\n",
    "details_df[details_df.DAMAGE_PROPERTY > 0].shape[0]"
   ]
  },
  {
   "cell_type": "code",
   "execution_count": 42,
   "metadata": {
    "collapsed": false
   },
   "outputs": [
    {
     "data": {
      "text/plain": [
       "493"
      ]
     },
     "execution_count": 42,
     "metadata": {},
     "output_type": "execute_result"
    }
   ],
   "source": [
    "# Tenemos 493 eventos que han provocado perdidas economicas en cultivos\n",
    "details_df[details_df.DAMAGE_CROPS > 0].shape[0]"
   ]
  },
  {
   "cell_type": "code",
   "execution_count": 43,
   "metadata": {
    "collapsed": false
   },
   "outputs": [
    {
     "data": {
      "text/plain": [
       "164"
      ]
     },
     "execution_count": 43,
     "metadata": {},
     "output_type": "execute_result"
    }
   ],
   "source": [
    "# Tenemos 164 eventos que han provocado heridos directamente\n",
    "details_df[details_df.INJURIES_DIRECT > 0].shape[0]"
   ]
  },
  {
   "cell_type": "code",
   "execution_count": 44,
   "metadata": {
    "collapsed": false
   },
   "outputs": [
    {
     "data": {
      "text/plain": [
       "46"
      ]
     },
     "execution_count": 44,
     "metadata": {},
     "output_type": "execute_result"
    }
   ],
   "source": [
    "# Tenemos 46 eventos que han provocado heridos indirectamente\n",
    "details_df[details_df.INJURIES_INDIRECT > 0].shape[0]"
   ]
  },
  {
   "cell_type": "code",
   "execution_count": 45,
   "metadata": {
    "collapsed": false
   },
   "outputs": [
    {
     "data": {
      "text/plain": [
       "91"
      ]
     },
     "execution_count": 45,
     "metadata": {},
     "output_type": "execute_result"
    }
   ],
   "source": [
    "# Tenemos 91 eventos que han provocado muertes directamente\n",
    "details_df[details_df.DEATHS_DIRECT > 0].shape[0]"
   ]
  },
  {
   "cell_type": "code",
   "execution_count": 46,
   "metadata": {
    "collapsed": false
   },
   "outputs": [
    {
     "data": {
      "text/plain": [
       "46"
      ]
     },
     "execution_count": 46,
     "metadata": {},
     "output_type": "execute_result"
    }
   ],
   "source": [
    "# Tenemos 46 eventos que han provocado muertes indirectamente\n",
    "details_df[details_df.INJURIES_INDIRECT > 0].shape[0]"
   ]
  },
  {
   "cell_type": "code",
   "execution_count": 47,
   "metadata": {
    "collapsed": true
   },
   "outputs": [],
   "source": [
    "details_df.to_csv('../Data/Preproceso/details.csv')"
   ]
  }
 ],
 "metadata": {
  "kernelspec": {
   "display_name": "Python [Root]",
   "language": "python",
   "name": "Python [Root]"
  },
  "language_info": {
   "codemirror_mode": {
    "name": "ipython",
    "version": 2
   },
   "file_extension": ".py",
   "mimetype": "text/x-python",
   "name": "python",
   "nbconvert_exporter": "python",
   "pygments_lexer": "ipython2",
   "version": "2.7.12"
  }
 },
 "nbformat": 4,
 "nbformat_minor": 0
}
