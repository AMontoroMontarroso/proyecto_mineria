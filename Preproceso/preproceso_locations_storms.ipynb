{
 "cells": [
  {
   "cell_type": "code",
   "execution_count": 18,
   "metadata": {
    "collapsed": true
   },
   "outputs": [],
   "source": [
    "import pandas as pd"
   ]
  },
  {
   "cell_type": "code",
   "execution_count": 19,
   "metadata": {
    "collapsed": false
   },
   "outputs": [],
   "source": [
    "locations_df = pd.read_csv('../Data/Seleccion/locations.csv', index_col = 0)"
   ]
  },
  {
   "cell_type": "code",
   "execution_count": 20,
   "metadata": {
    "collapsed": false
   },
   "outputs": [
    {
     "data": {
      "text/plain": [
       "EPISODE_ID    False\n",
       "EVENT_ID      False\n",
       "RANGE          True\n",
       "LATITUDE       True\n",
       "LONGITUDE      True\n",
       "LAT2           True\n",
       "LON2           True\n",
       "dtype: bool"
      ]
     },
     "execution_count": 20,
     "metadata": {},
     "output_type": "execute_result"
    }
   ],
   "source": [
    "# Observamos si hay valores nulos y en que atributos los hay\n",
    "locations_df.isnull().any()"
   ]
  },
  {
   "cell_type": "code",
   "execution_count": 21,
   "metadata": {
    "collapsed": false
   },
   "outputs": [],
   "source": [
    "#Cambiamos nombres a las columnas de LATITUD y LONGITUD a LAT1 y LON1\n",
    "locations_df['LAT1'] = locations_df['LATITUDE']\n",
    "locations_df['LON1'] = locations_df['LONGITUDE']\n",
    "locations_df = locations_df.drop(['LATITUDE', 'LONGITUDE'], 1)"
   ]
  },
  {
   "cell_type": "code",
   "execution_count": 22,
   "metadata": {
    "collapsed": false
   },
   "outputs": [],
   "source": [
    "# Ponemos como valor por defecto en RANGE un radio de 0\n",
    "locations_df['RANGE'] = locations_df['RANGE'].fillna(0)"
   ]
  },
  {
   "cell_type": "code",
   "execution_count": 38,
   "metadata": {
    "collapsed": false
   },
   "outputs": [],
   "source": [
    "#Pintamos las localizaciones para observar si hay valores incorrectos, que esten fuera del estado de Indiana\n",
    "import matplotlib.pyplot as plt\n",
    "\n",
    "plt.scatter(locations_df['LAT1'], locations_df['LON1'])\n",
    "plt.show()"
   ]
  },
  {
   "cell_type": "code",
   "execution_count": 24,
   "metadata": {
    "collapsed": false
   },
   "outputs": [
    {
     "data": {
      "text/plain": [
       "2476"
      ]
     },
     "execution_count": 24,
     "metadata": {},
     "output_type": "execute_result"
    }
   ],
   "source": [
    "#Observamos valores nulos de iniciales\n",
    "locations_df['LAT1'].isnull().sum()"
   ]
  },
  {
   "cell_type": "code",
   "execution_count": 25,
   "metadata": {
    "collapsed": false
   },
   "outputs": [
    {
     "data": {
      "text/plain": [
       "2476"
      ]
     },
     "execution_count": 25,
     "metadata": {},
     "output_type": "execute_result"
    }
   ],
   "source": [
    "#Observamos valores nulos de iniciales\n",
    "locations_df['LON1'].isnull().sum()"
   ]
  },
  {
   "cell_type": "code",
   "execution_count": 26,
   "metadata": {
    "collapsed": false
   },
   "outputs": [
    {
     "data": {
      "text/plain": [
       "7700"
      ]
     },
     "execution_count": 26,
     "metadata": {},
     "output_type": "execute_result"
    }
   ],
   "source": [
    "#Observamos valores nulos de iniciales\n",
    "locations_df['LAT2'].isnull().sum()"
   ]
  },
  {
   "cell_type": "code",
   "execution_count": 27,
   "metadata": {
    "collapsed": false
   },
   "outputs": [
    {
     "data": {
      "text/plain": [
       "7700"
      ]
     },
     "execution_count": 27,
     "metadata": {},
     "output_type": "execute_result"
    }
   ],
   "source": [
    "#Observamos valores nulos de iniciales\n",
    "locations_df['LON2'].isnull().sum()"
   ]
  },
  {
   "cell_type": "code",
   "execution_count": 28,
   "metadata": {
    "collapsed": true
   },
   "outputs": [],
   "source": [
    "#Eliminamos aquellos puntos que tiene un valor LAT1 mayor que 42\n",
    "locations_df = locations_df[locations_df['LAT1'] < 42]"
   ]
  },
  {
   "cell_type": "code",
   "execution_count": 29,
   "metadata": {
    "collapsed": false
   },
   "outputs": [],
   "source": [
    "# Observamos que hay un error en muchos atributos de LAT2 Y LON2, analizamos un poco mas en profundidad\n",
    "plt.scatter(locations_df['LAT2'], locations_df['LON2'])\n",
    "plt.show()"
   ]
  },
  {
   "cell_type": "code",
   "execution_count": 30,
   "metadata": {
    "collapsed": false
   },
   "outputs": [
    {
     "data": {
      "text/html": [
       "<div>\n",
       "<table border=\"1\" class=\"dataframe\">\n",
       "  <thead>\n",
       "    <tr style=\"text-align: right;\">\n",
       "      <th></th>\n",
       "      <th>LAT2</th>\n",
       "      <th>LON2</th>\n",
       "    </tr>\n",
       "  </thead>\n",
       "  <tbody>\n",
       "    <tr>\n",
       "      <th>1558</th>\n",
       "      <td>3756466.0</td>\n",
       "      <td>8723640.0</td>\n",
       "    </tr>\n",
       "    <tr>\n",
       "      <th>1559</th>\n",
       "      <td>3756292.0</td>\n",
       "      <td>8723718.0</td>\n",
       "    </tr>\n",
       "    <tr>\n",
       "      <th>1560</th>\n",
       "      <td>3755722.0</td>\n",
       "      <td>8722164.0</td>\n",
       "    </tr>\n",
       "    <tr>\n",
       "      <th>1561</th>\n",
       "      <td>3755902.0</td>\n",
       "      <td>8722176.0</td>\n",
       "    </tr>\n",
       "    <tr>\n",
       "      <th>1562</th>\n",
       "      <td>3756232.0</td>\n",
       "      <td>8722842.0</td>\n",
       "    </tr>\n",
       "    <tr>\n",
       "      <th>1563</th>\n",
       "      <td>3755338.0</td>\n",
       "      <td>8754012.0</td>\n",
       "    </tr>\n",
       "    <tr>\n",
       "      <th>1564</th>\n",
       "      <td>3754522.0</td>\n",
       "      <td>8755002.0</td>\n",
       "    </tr>\n",
       "    <tr>\n",
       "      <th>1565</th>\n",
       "      <td>3754726.0</td>\n",
       "      <td>8755200.0</td>\n",
       "    </tr>\n",
       "    <tr>\n",
       "      <th>1566</th>\n",
       "      <td>3755506.0</td>\n",
       "      <td>8754444.0</td>\n",
       "    </tr>\n",
       "    <tr>\n",
       "      <th>1567</th>\n",
       "      <td>3824264.0</td>\n",
       "      <td>8733684.0</td>\n",
       "    </tr>\n",
       "    <tr>\n",
       "      <th>1568</th>\n",
       "      <td>3824204.0</td>\n",
       "      <td>8732676.0</td>\n",
       "    </tr>\n",
       "    <tr>\n",
       "      <th>1569</th>\n",
       "      <td>3823214.0</td>\n",
       "      <td>8732202.0</td>\n",
       "    </tr>\n",
       "    <tr>\n",
       "      <th>1570</th>\n",
       "      <td>3823292.0</td>\n",
       "      <td>8733654.0</td>\n",
       "    </tr>\n",
       "    <tr>\n",
       "      <th>1571</th>\n",
       "      <td>3823910.0</td>\n",
       "      <td>8735034.0</td>\n",
       "    </tr>\n",
       "    <tr>\n",
       "      <th>1572</th>\n",
       "      <td>3824426.0</td>\n",
       "      <td>8734704.0</td>\n",
       "    </tr>\n",
       "    <tr>\n",
       "      <th>1573</th>\n",
       "      <td>3824000.0</td>\n",
       "      <td>8743800.0</td>\n",
       "    </tr>\n",
       "    <tr>\n",
       "      <th>1574</th>\n",
       "      <td>3821390.0</td>\n",
       "      <td>8746434.0</td>\n",
       "    </tr>\n",
       "    <tr>\n",
       "      <th>1575</th>\n",
       "      <td>3822002.0</td>\n",
       "      <td>8746908.0</td>\n",
       "    </tr>\n",
       "    <tr>\n",
       "      <th>1576</th>\n",
       "      <td>3824408.0</td>\n",
       "      <td>8744712.0</td>\n",
       "    </tr>\n",
       "    <tr>\n",
       "      <th>1577</th>\n",
       "      <td>387872.0</td>\n",
       "      <td>8756466.0</td>\n",
       "    </tr>\n",
       "    <tr>\n",
       "      <th>1578</th>\n",
       "      <td>388310.0</td>\n",
       "      <td>8755632.0</td>\n",
       "    </tr>\n",
       "    <tr>\n",
       "      <th>1579</th>\n",
       "      <td>389222.0</td>\n",
       "      <td>8755890.0</td>\n",
       "    </tr>\n",
       "    <tr>\n",
       "      <th>1580</th>\n",
       "      <td>389846.0</td>\n",
       "      <td>8754198.0</td>\n",
       "    </tr>\n",
       "    <tr>\n",
       "      <th>1581</th>\n",
       "      <td>387974.0</td>\n",
       "      <td>8755128.0</td>\n",
       "    </tr>\n",
       "    <tr>\n",
       "      <th>1582</th>\n",
       "      <td>3829652.0</td>\n",
       "      <td>8729304.0</td>\n",
       "    </tr>\n",
       "    <tr>\n",
       "      <th>1583</th>\n",
       "      <td>3829544.0</td>\n",
       "      <td>8732274.0</td>\n",
       "    </tr>\n",
       "    <tr>\n",
       "      <th>1584</th>\n",
       "      <td>3830006.0</td>\n",
       "      <td>8732034.0</td>\n",
       "    </tr>\n",
       "    <tr>\n",
       "      <th>1585</th>\n",
       "      <td>3829976.0</td>\n",
       "      <td>8730480.0</td>\n",
       "    </tr>\n",
       "    <tr>\n",
       "      <th>1586</th>\n",
       "      <td>3829922.0</td>\n",
       "      <td>8716686.0</td>\n",
       "    </tr>\n",
       "    <tr>\n",
       "      <th>1587</th>\n",
       "      <td>3831002.0</td>\n",
       "      <td>8716524.0</td>\n",
       "    </tr>\n",
       "    <tr>\n",
       "      <th>...</th>\n",
       "      <td>...</td>\n",
       "      <td>...</td>\n",
       "    </tr>\n",
       "    <tr>\n",
       "      <th>80760</th>\n",
       "      <td>3754816.0</td>\n",
       "      <td>8755170.0</td>\n",
       "    </tr>\n",
       "    <tr>\n",
       "      <th>80761</th>\n",
       "      <td>3754696.0</td>\n",
       "      <td>8754888.0</td>\n",
       "    </tr>\n",
       "    <tr>\n",
       "      <th>80762</th>\n",
       "      <td>3755476.0</td>\n",
       "      <td>8753976.0</td>\n",
       "    </tr>\n",
       "    <tr>\n",
       "      <th>80763</th>\n",
       "      <td>3755470.0</td>\n",
       "      <td>8754504.0</td>\n",
       "    </tr>\n",
       "    <tr>\n",
       "      <th>80764</th>\n",
       "      <td>3823928.0</td>\n",
       "      <td>8734758.0</td>\n",
       "    </tr>\n",
       "    <tr>\n",
       "      <th>80765</th>\n",
       "      <td>3824426.0</td>\n",
       "      <td>8734674.0</td>\n",
       "    </tr>\n",
       "    <tr>\n",
       "      <th>80766</th>\n",
       "      <td>3824156.0</td>\n",
       "      <td>8731416.0</td>\n",
       "    </tr>\n",
       "    <tr>\n",
       "      <th>80767</th>\n",
       "      <td>3823406.0</td>\n",
       "      <td>8731932.0</td>\n",
       "    </tr>\n",
       "    <tr>\n",
       "      <th>81474</th>\n",
       "      <td>3758620.0</td>\n",
       "      <td>8741922.0</td>\n",
       "    </tr>\n",
       "    <tr>\n",
       "      <th>81475</th>\n",
       "      <td>3758800.0</td>\n",
       "      <td>8733000.0</td>\n",
       "    </tr>\n",
       "    <tr>\n",
       "      <th>81722</th>\n",
       "      <td>3848000.0</td>\n",
       "      <td>8539000.0</td>\n",
       "    </tr>\n",
       "    <tr>\n",
       "      <th>81723</th>\n",
       "      <td>3847982.0</td>\n",
       "      <td>8538478.0</td>\n",
       "    </tr>\n",
       "    <tr>\n",
       "      <th>81724</th>\n",
       "      <td>3847538.0</td>\n",
       "      <td>8538376.0</td>\n",
       "    </tr>\n",
       "    <tr>\n",
       "      <th>81725</th>\n",
       "      <td>3847496.0</td>\n",
       "      <td>8539060.0</td>\n",
       "    </tr>\n",
       "    <tr>\n",
       "      <th>81823</th>\n",
       "      <td>3934200.0</td>\n",
       "      <td>8512000.0</td>\n",
       "    </tr>\n",
       "    <tr>\n",
       "      <th>81824</th>\n",
       "      <td>3940800.0</td>\n",
       "      <td>8510800.0</td>\n",
       "    </tr>\n",
       "    <tr>\n",
       "      <th>81825</th>\n",
       "      <td>3939000.0</td>\n",
       "      <td>853000.0</td>\n",
       "    </tr>\n",
       "    <tr>\n",
       "      <th>81826</th>\n",
       "      <td>3934200.0</td>\n",
       "      <td>854800.0</td>\n",
       "    </tr>\n",
       "    <tr>\n",
       "      <th>81827</th>\n",
       "      <td>3943200.0</td>\n",
       "      <td>851200.0</td>\n",
       "    </tr>\n",
       "    <tr>\n",
       "      <th>81828</th>\n",
       "      <td>3940800.0</td>\n",
       "      <td>8452200.0</td>\n",
       "    </tr>\n",
       "    <tr>\n",
       "      <th>81829</th>\n",
       "      <td>3933000.0</td>\n",
       "      <td>8455200.0</td>\n",
       "    </tr>\n",
       "    <tr>\n",
       "      <th>81830</th>\n",
       "      <td>3936000.0</td>\n",
       "      <td>8500.0</td>\n",
       "    </tr>\n",
       "    <tr>\n",
       "      <th>81831</th>\n",
       "      <td>3912000.0</td>\n",
       "      <td>8519800.0</td>\n",
       "    </tr>\n",
       "    <tr>\n",
       "      <th>81832</th>\n",
       "      <td>397200.0</td>\n",
       "      <td>857800.0</td>\n",
       "    </tr>\n",
       "    <tr>\n",
       "      <th>81833</th>\n",
       "      <td>3858800.0</td>\n",
       "      <td>8513200.0</td>\n",
       "    </tr>\n",
       "    <tr>\n",
       "      <th>81834</th>\n",
       "      <td>3900.0</td>\n",
       "      <td>8522200.0</td>\n",
       "    </tr>\n",
       "    <tr>\n",
       "      <th>81835</th>\n",
       "      <td>394200.0</td>\n",
       "      <td>853000.0</td>\n",
       "    </tr>\n",
       "    <tr>\n",
       "      <th>81836</th>\n",
       "      <td>3916800.0</td>\n",
       "      <td>851800.0</td>\n",
       "    </tr>\n",
       "    <tr>\n",
       "      <th>81837</th>\n",
       "      <td>3915000.0</td>\n",
       "      <td>8452800.0</td>\n",
       "    </tr>\n",
       "    <tr>\n",
       "      <th>81965</th>\n",
       "      <td>397200.0</td>\n",
       "      <td>8452200.0</td>\n",
       "    </tr>\n",
       "  </tbody>\n",
       "</table>\n",
       "<p>22108 rows × 2 columns</p>\n",
       "</div>"
      ],
      "text/plain": [
       "            LAT2       LON2\n",
       "1558   3756466.0  8723640.0\n",
       "1559   3756292.0  8723718.0\n",
       "1560   3755722.0  8722164.0\n",
       "1561   3755902.0  8722176.0\n",
       "1562   3756232.0  8722842.0\n",
       "1563   3755338.0  8754012.0\n",
       "1564   3754522.0  8755002.0\n",
       "1565   3754726.0  8755200.0\n",
       "1566   3755506.0  8754444.0\n",
       "1567   3824264.0  8733684.0\n",
       "1568   3824204.0  8732676.0\n",
       "1569   3823214.0  8732202.0\n",
       "1570   3823292.0  8733654.0\n",
       "1571   3823910.0  8735034.0\n",
       "1572   3824426.0  8734704.0\n",
       "1573   3824000.0  8743800.0\n",
       "1574   3821390.0  8746434.0\n",
       "1575   3822002.0  8746908.0\n",
       "1576   3824408.0  8744712.0\n",
       "1577    387872.0  8756466.0\n",
       "1578    388310.0  8755632.0\n",
       "1579    389222.0  8755890.0\n",
       "1580    389846.0  8754198.0\n",
       "1581    387974.0  8755128.0\n",
       "1582   3829652.0  8729304.0\n",
       "1583   3829544.0  8732274.0\n",
       "1584   3830006.0  8732034.0\n",
       "1585   3829976.0  8730480.0\n",
       "1586   3829922.0  8716686.0\n",
       "1587   3831002.0  8716524.0\n",
       "...          ...        ...\n",
       "80760  3754816.0  8755170.0\n",
       "80761  3754696.0  8754888.0\n",
       "80762  3755476.0  8753976.0\n",
       "80763  3755470.0  8754504.0\n",
       "80764  3823928.0  8734758.0\n",
       "80765  3824426.0  8734674.0\n",
       "80766  3824156.0  8731416.0\n",
       "80767  3823406.0  8731932.0\n",
       "81474  3758620.0  8741922.0\n",
       "81475  3758800.0  8733000.0\n",
       "81722  3848000.0  8539000.0\n",
       "81723  3847982.0  8538478.0\n",
       "81724  3847538.0  8538376.0\n",
       "81725  3847496.0  8539060.0\n",
       "81823  3934200.0  8512000.0\n",
       "81824  3940800.0  8510800.0\n",
       "81825  3939000.0   853000.0\n",
       "81826  3934200.0   854800.0\n",
       "81827  3943200.0   851200.0\n",
       "81828  3940800.0  8452200.0\n",
       "81829  3933000.0  8455200.0\n",
       "81830  3936000.0     8500.0\n",
       "81831  3912000.0  8519800.0\n",
       "81832   397200.0   857800.0\n",
       "81833  3858800.0  8513200.0\n",
       "81834     3900.0  8522200.0\n",
       "81835   394200.0   853000.0\n",
       "81836  3916800.0   851800.0\n",
       "81837  3915000.0  8452800.0\n",
       "81965   397200.0  8452200.0\n",
       "\n",
       "[22108 rows x 2 columns]"
      ]
     },
     "execution_count": 30,
     "metadata": {},
     "output_type": "execute_result"
    }
   ],
   "source": [
    "# Observamos que muchos elementos no se han introducido correctamente y se procede a preprocesarlos\n",
    "locations_df[['LAT2', 'LON2']]"
   ]
  },
  {
   "cell_type": "code",
   "execution_count": 31,
   "metadata": {
    "collapsed": true
   },
   "outputs": [],
   "source": [
    "def reajustar_puntos_lat(x):\n",
    "    x_s = str(x).replace('.', '')\n",
    "    x_s = x_s[:2] + '.' + x_s[2:]\n",
    "    return float(x_s)\n",
    "\n",
    "def reajustar_puntos_lon(x):\n",
    "    x_s = str(x).replace('.', '')\n",
    "    x_s = x_s[:2] + '.' + x_s[2:]\n",
    "    if x_s[0] != '-':\n",
    "        x_s = '-' + x_s\n",
    "    return float(x_s)"
   ]
  },
  {
   "cell_type": "code",
   "execution_count": 32,
   "metadata": {
    "collapsed": false
   },
   "outputs": [],
   "source": [
    "locations_df['LAT2'] = locations_df['LAT2'].fillna(0.0)\n",
    "locations_df['LAT2'] = locations_df['LAT2'].apply(reajustar_puntos_lat)\n",
    "locations_df['LON2'] = locations_df['LON2'].fillna(0.0)\n",
    "locations_df['LON2'] = locations_df['LON2'].apply(reajustar_puntos_lon)"
   ]
  },
  {
   "cell_type": "code",
   "execution_count": 33,
   "metadata": {
    "collapsed": false
   },
   "outputs": [],
   "source": [
    "# Observamos que hay un error en muchos atributos de LAT2 Y LON2, analizamos un poco mas en profundidad\n",
    "plt.scatter(locations_df['LAT2'], locations_df['LON2'])\n",
    "plt.show()"
   ]
  },
  {
   "cell_type": "code",
   "execution_count": 34,
   "metadata": {
    "collapsed": false
   },
   "outputs": [],
   "source": [
    "#Eliminamos los outliers\n",
    "locations_df = locations_df[locations_df['LAT2'] > 30]"
   ]
  },
  {
   "cell_type": "code",
   "execution_count": 35,
   "metadata": {
    "collapsed": true
   },
   "outputs": [],
   "source": [
    "# Observamos que hay un error en muchos atributos de LAT2 Y LON2, analizamos un poco mas en profundidad\n",
    "plt.scatter(locations_df['LAT2'], locations_df['LON2'])\n",
    "plt.show()"
   ]
  },
  {
   "cell_type": "code",
   "execution_count": 36,
   "metadata": {
    "collapsed": true
   },
   "outputs": [],
   "source": [
    "#Se observa que los puntos de LAT2 y LON2 estan mal introducidos y no se puede hacer nada al respecto. Se\n",
    "# intentara utilizar los puntos de posicion de la tabla de details\n",
    "\n",
    "#Documentar que en el preprocesamiento de estos datos se observo que no era posible su uso debido a el excesivo ruido\n",
    "# en las latitudes y longitudes del fin de cada tormenta, y que por ello se utilizaran las de details, aunque\n",
    "# se pierda algo de informacion, sus posiciones presentan menos ruido.\n",
    "\n",
    "#De estos datos tan solo se utilizara el valor range e LON1 y LAT1 porque es más completo que el de details"
   ]
  },
  {
   "cell_type": "code",
   "execution_count": 37,
   "metadata": {
    "collapsed": false
   },
   "outputs": [],
   "source": [
    "locations_df = locations_df[['EVENT_ID', 'EPISODE_ID', 'RANGE', 'LAT1', 'LON1']]\n",
    "locations_df.to_csv('../Data/Preproceso/locations.csv')"
   ]
  },
  {
   "cell_type": "code",
   "execution_count": null,
   "metadata": {
    "collapsed": true
   },
   "outputs": [],
   "source": []
  }
 ],
 "metadata": {
  "kernelspec": {
   "display_name": "Python [Root]",
   "language": "python",
   "name": "Python [Root]"
  },
  "language_info": {
   "codemirror_mode": {
    "name": "ipython",
    "version": 2
   },
   "file_extension": ".py",
   "mimetype": "text/x-python",
   "name": "python",
   "nbconvert_exporter": "python",
   "pygments_lexer": "ipython2",
   "version": "2.7.12"
  }
 },
 "nbformat": 4,
 "nbformat_minor": 0
}
